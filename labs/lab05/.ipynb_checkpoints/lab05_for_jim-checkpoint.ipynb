{
 "cells": [
  {
   "cell_type": "code",
   "execution_count": 6,
   "metadata": {},
   "outputs": [],
   "source": [
    "import pandas as pd\n",
    "import numpy as np"
   ]
  },
  {
   "cell_type": "code",
   "execution_count": 16,
   "metadata": {},
   "outputs": [
    {
     "data": {
      "text/plain": [
       "''"
      ]
     },
     "execution_count": 16,
     "metadata": {},
     "output_type": "execute_result"
    }
   ],
   "source": [
    "\"T\" * 0 # output is the empty string (i.e., not what you want)"
   ]
  },
  {
   "cell_type": "code",
   "execution_count": 19,
   "metadata": {},
   "outputs": [
    {
     "data": {
      "text/plain": [
       "'TTT'"
      ]
     },
     "execution_count": 19,
     "metadata": {},
     "output_type": "execute_result"
    }
   ],
   "source": [
    "\"T\" * 3 # Python is weird with Strings..."
   ]
  },
  {
   "cell_type": "code",
   "execution_count": 17,
   "metadata": {},
   "outputs": [
    {
     "data": {
      "text/plain": [
       "nan"
      ]
     },
     "execution_count": 17,
     "metadata": {},
     "output_type": "execute_result"
    }
   ],
   "source": [
    "pd.to_numeric(\"T\" * 0) # a quick test to verify it won't work"
   ]
  },
  {
   "cell_type": "code",
   "execution_count": 18,
   "metadata": {},
   "outputs": [
    {
     "data": {
      "text/plain": [
       "0"
      ]
     },
     "execution_count": 18,
     "metadata": {},
     "output_type": "execute_result"
    }
   ],
   "source": [
    "pd.to_numeric(\"0\") # gets the result we want"
   ]
  },
  {
   "cell_type": "code",
   "execution_count": 5,
   "metadata": {},
   "outputs": [
    {
     "name": "stdout",
     "output_type": "stream",
     "text": [
      "<class 'pandas.core.frame.DataFrame'>\n",
      "RangeIndex: 366 entries, 0 to 365\n",
      "Data columns (total 8 columns):\n",
      "month          366 non-null int64\n",
      "day            366 non-null int64\n",
      "year           366 non-null int64\n",
      "day_of_week    366 non-null object\n",
      "t_max          366 non-null object\n",
      "t_min          366 non-null int64\n",
      "t_mean         366 non-null int64\n",
      "precip         366 non-null object\n",
      "dtypes: int64(5), object(3)\n",
      "memory usage: 23.0+ KB\n"
     ]
    }
   ],
   "source": [
    "# read data\n",
    "d_path = \"lab05_climate_data.csv\"\n",
    "d = pd.read_csv(d_path)\n",
    "d.info()"
   ]
  },
  {
   "cell_type": "code",
   "execution_count": 9,
   "metadata": {},
   "outputs": [
    {
     "name": "stdout",
     "output_type": "stream",
     "text": [
      "<class 'pandas.core.frame.DataFrame'>\n",
      "RangeIndex: 366 entries, 0 to 365\n",
      "Data columns (total 9 columns):\n",
      "month           366 non-null int64\n",
      "day             366 non-null int64\n",
      "year            366 non-null int64\n",
      "day_of_week     366 non-null object\n",
      "t_max           366 non-null object\n",
      "t_min           366 non-null int64\n",
      "t_mean          366 non-null int64\n",
      "precip          366 non-null object\n",
      "precip_no_ts    366 non-null object\n",
      "dtypes: int64(5), object(4)\n",
      "memory usage: 25.9+ KB\n"
     ]
    }
   ],
   "source": [
    "# step 1, convert the Ts to 0s, but as strings.\n",
    "\n",
    "d['precip_no_ts'] = np.where(d['precip'] == 'T', '0', d['precip'])\n",
    "d.info()"
   ]
  },
  {
   "cell_type": "code",
   "execution_count": 11,
   "metadata": {},
   "outputs": [
    {
     "name": "stdout",
     "output_type": "stream",
     "text": [
      "<class 'pandas.core.frame.DataFrame'>\n",
      "RangeIndex: 366 entries, 0 to 365\n",
      "Data columns (total 10 columns):\n",
      "month             366 non-null int64\n",
      "day               366 non-null int64\n",
      "year              366 non-null int64\n",
      "day_of_week       366 non-null object\n",
      "t_max             366 non-null object\n",
      "t_min             366 non-null int64\n",
      "t_mean            366 non-null int64\n",
      "precip            366 non-null object\n",
      "precip_no_ts      366 non-null object\n",
      "precip_numeric    366 non-null float64\n",
      "dtypes: float64(1), int64(5), object(4)\n",
      "memory usage: 28.7+ KB\n"
     ]
    }
   ],
   "source": [
    "# step 2, convert the new column to a numeric\n",
    "d['precip_numeric'] = pd.to_numeric(d['precip_no_ts'])\n",
    "d.info() # verify it's now a float"
   ]
  },
  {
   "cell_type": "code",
   "execution_count": 14,
   "metadata": {},
   "outputs": [
    {
     "data": {
      "text/plain": [
       "array([[<matplotlib.axes._subplots.AxesSubplot object at 0x7f92700bd3d0>]],\n",
       "      dtype=object)"
      ]
     },
     "execution_count": 14,
     "metadata": {},
     "output_type": "execute_result"
    },
    {
     "data": {
      "image/png": "[encoded data removed]",
      "text/plain": [
       "<Figure size 432x288 with 1 Axes>"
      ]
     },
     "metadata": {
      "needs_background": "light"
     },
     "output_type": "display_data"
    }
   ],
   "source": [
    "# quick histogram to be sure\n",
    "\n",
    "d.hist(column = 'precip_numeric', bins = 10)"
   ]
  },
  {
   "cell_type": "code",
   "execution_count": null,
   "metadata": {},
   "outputs": [],
   "source": []
  }
 ],
 "metadata": {
  "kernelspec": {
   "display_name": "Python 3",
   "language": "python",
   "name": "python3"
  },
  "language_info": {
   "codemirror_mode": {
    "name": "ipython",
    "version": 3
   },
   "file_extension": ".py",
   "mimetype": "text/x-python",
   "name": "python",
   "nbconvert_exporter": "python",
   "pygments_lexer": "ipython3",
   "version": "3.7.4"
  }
 },
 "nbformat": 4,
 "nbformat_minor": 2
}
