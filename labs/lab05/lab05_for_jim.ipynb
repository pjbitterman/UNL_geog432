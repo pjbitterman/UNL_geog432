{
 "cells": [
  {
   "cell_type": "code",
   "execution_count": 1,
   "metadata": {},
   "outputs": [],
   "source": [
    "import pandas as pd\n",
    "import numpy as np"
   ]
  },
  {
   "cell_type": "code",
   "execution_count": 2,
   "metadata": {},
   "outputs": [
    {
     "data": {
      "text/plain": [
       "''"
      ]
     },
     "execution_count": 2,
     "metadata": {},
     "output_type": "execute_result"
    }
   ],
   "source": [
    "\"T\" * 0 # output is the empty string (i.e., not what you want)"
   ]
  },
  {
   "cell_type": "code",
   "execution_count": 3,
   "metadata": {},
   "outputs": [
    {
     "data": {
      "text/plain": [
       "'TTT'"
      ]
     },
     "execution_count": 3,
     "metadata": {},
     "output_type": "execute_result"
    }
   ],
   "source": [
    "\"T\" * 3 # Python is weird with Strings..."
   ]
  },
  {
   "cell_type": "code",
   "execution_count": 4,
   "metadata": {},
   "outputs": [
    {
     "data": {
      "text/plain": [
       "nan"
      ]
     },
     "execution_count": 4,
     "metadata": {},
     "output_type": "execute_result"
    }
   ],
   "source": [
    "pd.to_numeric(\"T\" * 0) # a quick test to verify it won't work"
   ]
  },
  {
   "cell_type": "code",
   "execution_count": 4,
   "metadata": {},
   "outputs": [
    {
     "data": {
      "text/plain": [
       "0"
      ]
     },
     "execution_count": 4,
     "metadata": {},
     "output_type": "execute_result"
    }
   ],
   "source": [
    "pd.to_numeric(\"0\") # gets the result we want"
   ]
  },
  {
   "cell_type": "code",
   "execution_count": 5,
   "metadata": {},
   "outputs": [
    {
     "name": "stdout",
     "output_type": "stream",
     "text": [
      "<class 'pandas.core.frame.DataFrame'>\n",
      "RangeIndex: 366 entries, 0 to 365\n",
      "Data columns (total 8 columns):\n",
      "month          366 non-null int64\n",
      "day            366 non-null int64\n",
      "year           366 non-null int64\n",
      "day_of_week    366 non-null object\n",
      "t_max          366 non-null object\n",
      "t_min          366 non-null int64\n",
      "t_mean         366 non-null int64\n",
      "precip         366 non-null object\n",
      "dtypes: int64(5), object(3)\n",
      "memory usage: 23.0+ KB\n"
     ]
    }
   ],
   "source": [
    "# read data\n",
    "d_path = \"lab05_climate_data.csv\"\n",
    "d = pd.read_csv(d_path)\n",
    "d.info()"
   ]
  },
  {
   "cell_type": "code",
   "execution_count": 7,
   "metadata": {},
   "outputs": [
    {
     "data": {
      "text/html": [
       "<div>\n",
       "<style scoped>\n",
       "    .dataframe tbody tr th:only-of-type {\n",
       "        vertical-align: middle;\n",
       "    }\n",
       "\n",
       "    .dataframe tbody tr th {\n",
       "        vertical-align: top;\n",
       "    }\n",
       "\n",
       "    .dataframe thead th {\n",
       "        text-align: right;\n",
       "    }\n",
       "</style>\n",
       "<table border=\"1\" class=\"dataframe\">\n",
       "  <thead>\n",
       "    <tr style=\"text-align: right;\">\n",
       "      <th></th>\n",
       "      <th>month</th>\n",
       "      <th>day</th>\n",
       "      <th>year</th>\n",
       "      <th>day_of_week</th>\n",
       "      <th>t_max</th>\n",
       "      <th>t_min</th>\n",
       "      <th>t_mean</th>\n",
       "      <th>precip</th>\n",
       "      <th>precip_no_ts</th>\n",
       "    </tr>\n",
       "  </thead>\n",
       "  <tbody>\n",
       "    <tr>\n",
       "      <td>0</td>\n",
       "      <td>1</td>\n",
       "      <td>1</td>\n",
       "      <td>2020</td>\n",
       "      <td>Wednesday</td>\n",
       "      <td>47</td>\n",
       "      <td>22</td>\n",
       "      <td>35</td>\n",
       "      <td>0</td>\n",
       "      <td>0</td>\n",
       "    </tr>\n",
       "    <tr>\n",
       "      <td>1</td>\n",
       "      <td>1</td>\n",
       "      <td>2</td>\n",
       "      <td>2020</td>\n",
       "      <td>Thursday</td>\n",
       "      <td>44</td>\n",
       "      <td>23</td>\n",
       "      <td>34</td>\n",
       "      <td>0</td>\n",
       "      <td>0</td>\n",
       "    </tr>\n",
       "    <tr>\n",
       "      <td>2</td>\n",
       "      <td>1</td>\n",
       "      <td>3</td>\n",
       "      <td>2020</td>\n",
       "      <td>Friday</td>\n",
       "      <td>43</td>\n",
       "      <td>21</td>\n",
       "      <td>32</td>\n",
       "      <td>0</td>\n",
       "      <td>0</td>\n",
       "    </tr>\n",
       "    <tr>\n",
       "      <td>3</td>\n",
       "      <td>1</td>\n",
       "      <td>4</td>\n",
       "      <td>2020</td>\n",
       "      <td>Saturday</td>\n",
       "      <td>46</td>\n",
       "      <td>18</td>\n",
       "      <td>32</td>\n",
       "      <td>0</td>\n",
       "      <td>0</td>\n",
       "    </tr>\n",
       "    <tr>\n",
       "      <td>4</td>\n",
       "      <td>1</td>\n",
       "      <td>5</td>\n",
       "      <td>2020</td>\n",
       "      <td>Sunday</td>\n",
       "      <td>49</td>\n",
       "      <td>22</td>\n",
       "      <td>36</td>\n",
       "      <td>0</td>\n",
       "      <td>0</td>\n",
       "    </tr>\n",
       "    <tr>\n",
       "      <td>...</td>\n",
       "      <td>...</td>\n",
       "      <td>...</td>\n",
       "      <td>...</td>\n",
       "      <td>...</td>\n",
       "      <td>...</td>\n",
       "      <td>...</td>\n",
       "      <td>...</td>\n",
       "      <td>...</td>\n",
       "      <td>...</td>\n",
       "    </tr>\n",
       "    <tr>\n",
       "      <td>361</td>\n",
       "      <td>12</td>\n",
       "      <td>27</td>\n",
       "      <td>2020</td>\n",
       "      <td>Sunday</td>\n",
       "      <td>41</td>\n",
       "      <td>23</td>\n",
       "      <td>32</td>\n",
       "      <td>T</td>\n",
       "      <td>0</td>\n",
       "    </tr>\n",
       "    <tr>\n",
       "      <td>362</td>\n",
       "      <td>12</td>\n",
       "      <td>28</td>\n",
       "      <td>2020</td>\n",
       "      <td>Monday</td>\n",
       "      <td>35</td>\n",
       "      <td>23</td>\n",
       "      <td>29</td>\n",
       "      <td>0</td>\n",
       "      <td>0</td>\n",
       "    </tr>\n",
       "    <tr>\n",
       "      <td>363</td>\n",
       "      <td>12</td>\n",
       "      <td>29</td>\n",
       "      <td>2020</td>\n",
       "      <td>Tuesday</td>\n",
       "      <td>32</td>\n",
       "      <td>23</td>\n",
       "      <td>28</td>\n",
       "      <td>0.69</td>\n",
       "      <td>0.69</td>\n",
       "    </tr>\n",
       "    <tr>\n",
       "      <td>364</td>\n",
       "      <td>12</td>\n",
       "      <td>30</td>\n",
       "      <td>2020</td>\n",
       "      <td>Wednesday</td>\n",
       "      <td>32</td>\n",
       "      <td>-1</td>\n",
       "      <td>16</td>\n",
       "      <td>0</td>\n",
       "      <td>0</td>\n",
       "    </tr>\n",
       "    <tr>\n",
       "      <td>365</td>\n",
       "      <td>12</td>\n",
       "      <td>31</td>\n",
       "      <td>2020</td>\n",
       "      <td>Thursday</td>\n",
       "      <td>33</td>\n",
       "      <td>-5</td>\n",
       "      <td>14</td>\n",
       "      <td>0</td>\n",
       "      <td>0</td>\n",
       "    </tr>\n",
       "  </tbody>\n",
       "</table>\n",
       "<p>366 rows × 9 columns</p>\n",
       "</div>"
      ],
      "text/plain": [
       "     month  day  year day_of_week t_max  t_min  t_mean precip precip_no_ts\n",
       "0        1    1  2020   Wednesday    47     22      35      0            0\n",
       "1        1    2  2020    Thursday    44     23      34      0            0\n",
       "2        1    3  2020      Friday    43     21      32      0            0\n",
       "3        1    4  2020    Saturday    46     18      32      0            0\n",
       "4        1    5  2020      Sunday    49     22      36      0            0\n",
       "..     ...  ...   ...         ...   ...    ...     ...    ...          ...\n",
       "361     12   27  2020     Sunday     41     23      32      T            0\n",
       "362     12   28  2020     Monday     35     23      29      0            0\n",
       "363     12   29  2020    Tuesday     32     23      28   0.69         0.69\n",
       "364     12   30  2020   Wednesday    32     -1      16      0            0\n",
       "365     12   31  2020   Thursday     33     -5      14      0            0\n",
       "\n",
       "[366 rows x 9 columns]"
      ]
     },
     "execution_count": 7,
     "metadata": {},
     "output_type": "execute_result"
    }
   ],
   "source": [
    "# step 1, convert the Ts to 0s, but as strings.\n",
    "\n",
    "d['precip_no_ts'] = np.where(d['precip'] == 'T', '0', d['precip'])\n",
    "d"
   ]
  },
  {
   "cell_type": "code",
   "execution_count": 8,
   "metadata": {},
   "outputs": [
    {
     "name": "stdout",
     "output_type": "stream",
     "text": [
      "<class 'pandas.core.frame.DataFrame'>\n",
      "RangeIndex: 366 entries, 0 to 365\n",
      "Data columns (total 10 columns):\n",
      "month             366 non-null int64\n",
      "day               366 non-null int64\n",
      "year              366 non-null int64\n",
      "day_of_week       366 non-null object\n",
      "t_max             366 non-null object\n",
      "t_min             366 non-null int64\n",
      "t_mean            366 non-null int64\n",
      "precip            366 non-null object\n",
      "precip_no_ts      366 non-null object\n",
      "precip_numeric    366 non-null float64\n",
      "dtypes: float64(1), int64(5), object(4)\n",
      "memory usage: 28.7+ KB\n"
     ]
    }
   ],
   "source": [
    "# step 2, convert the new column to a numeric\n",
    "d['precip_numeric'] = pd.to_numeric(d['precip_no_ts'])\n",
    "d.info() # verify it's now a float"
   ]
  },
  {
   "cell_type": "code",
   "execution_count": 14,
   "metadata": {},
   "outputs": [
    {
     "data": {
      "text/plain": [
       "array([[<matplotlib.axes._subplots.AxesSubplot object at 0x7f92700bd3d0>]],\n",
       "      dtype=object)"
      ]
     },
     "execution_count": 14,
     "metadata": {},
     "output_type": "execute_result"
    },
    {
     "data": {
      "image/png": "[encoded data removed]",
      "text/plain": [
       "<Figure size 432x288 with 1 Axes>"
      ]
     },
     "metadata": {
      "needs_background": "light"
     },
     "output_type": "display_data"
    }
   ],
   "source": [
    "# quick histogram to be sure\n",
    "\n",
    "d.hist(column = 'precip_numeric', bins = 10)"
   ]
  },
  {
   "cell_type": "code",
   "execution_count": 12,
   "metadata": {},
   "outputs": [
    {
     "data": {
      "text/plain": [
       "<seaborn.axisgrid.FacetGrid at 0x7fee2110b890>"
      ]
     },
     "execution_count": 12,
     "metadata": {},
     "output_type": "execute_result"
    },
    {
     "data": {
      "image/png": "[encoded data removed]",
      "text/plain": [
       "<Figure size 408.75x360 with 1 Axes>"
      ]
     },
     "metadata": {
      "needs_background": "light"
     },
     "output_type": "display_data"
    }
   ],
   "source": [
    "import seaborn as sns\n",
    "sns.lmplot('t_min', 'precip_numeric', data=d, hue='month', fit_reg=False) # note, you could alter this to be month by name, not by numeric\n"
   ]
  },
  {
   "cell_type": "code",
   "execution_count": 8,
   "metadata": {},
   "outputs": [
    {
     "name": "stdout",
     "output_type": "stream",
     "text": [
      "<class 'pandas.core.frame.DataFrame'>\n",
      "RangeIndex: 366 entries, 0 to 365\n",
      "Data columns (total 9 columns):\n",
      "month           366 non-null int64\n",
      "day             366 non-null int64\n",
      "year            366 non-null int64\n",
      "day_of_week     366 non-null object\n",
      "t_max           366 non-null object\n",
      "t_min           366 non-null int64\n",
      "t_mean          366 non-null int64\n",
      "precip          366 non-null object\n",
      "precip_no_ts    366 non-null object\n",
      "dtypes: int64(5), object(4)\n",
      "memory usage: 25.9+ KB\n"
     ]
    }
   ],
   "source": [
    "d.info()"
   ]
  },
  {
   "cell_type": "code",
   "execution_count": 10,
   "metadata": {},
   "outputs": [
    {
     "data": {
      "text/html": [
       "<div>\n",
       "<style scoped>\n",
       "    .dataframe tbody tr th:only-of-type {\n",
       "        vertical-align: middle;\n",
       "    }\n",
       "\n",
       "    .dataframe tbody tr th {\n",
       "        vertical-align: top;\n",
       "    }\n",
       "\n",
       "    .dataframe thead th {\n",
       "        text-align: right;\n",
       "    }\n",
       "</style>\n",
       "<table border=\"1\" class=\"dataframe\">\n",
       "  <thead>\n",
       "    <tr style=\"text-align: right;\">\n",
       "      <th></th>\n",
       "      <th>month</th>\n",
       "      <th>day</th>\n",
       "      <th>year</th>\n",
       "      <th>t_min</th>\n",
       "      <th>t_mean</th>\n",
       "    </tr>\n",
       "    <tr>\n",
       "      <th>day_of_week</th>\n",
       "      <th></th>\n",
       "      <th></th>\n",
       "      <th></th>\n",
       "      <th></th>\n",
       "      <th></th>\n",
       "    </tr>\n",
       "  </thead>\n",
       "  <tbody>\n",
       "    <tr>\n",
       "      <td>Friday</td>\n",
       "      <td>169</td>\n",
       "      <td>501</td>\n",
       "      <td>62620</td>\n",
       "      <td>1537</td>\n",
       "      <td>1875</td>\n",
       "    </tr>\n",
       "    <tr>\n",
       "      <td>Friday</td>\n",
       "      <td>166</td>\n",
       "      <td>328</td>\n",
       "      <td>42420</td>\n",
       "      <td>536</td>\n",
       "      <td>835</td>\n",
       "    </tr>\n",
       "    <tr>\n",
       "      <td>Monday</td>\n",
       "      <td>173</td>\n",
       "      <td>500</td>\n",
       "      <td>62620</td>\n",
       "      <td>1551</td>\n",
       "      <td>1874</td>\n",
       "    </tr>\n",
       "    <tr>\n",
       "      <td>Monday</td>\n",
       "      <td>167</td>\n",
       "      <td>332</td>\n",
       "      <td>42420</td>\n",
       "      <td>601</td>\n",
       "      <td>880</td>\n",
       "    </tr>\n",
       "    <tr>\n",
       "      <td>Saturday</td>\n",
       "      <td>188</td>\n",
       "      <td>528</td>\n",
       "      <td>70700</td>\n",
       "      <td>1585</td>\n",
       "      <td>2029</td>\n",
       "    </tr>\n",
       "    <tr>\n",
       "      <td>Saturday</td>\n",
       "      <td>149</td>\n",
       "      <td>291</td>\n",
       "      <td>34340</td>\n",
       "      <td>572</td>\n",
       "      <td>800</td>\n",
       "    </tr>\n",
       "    <tr>\n",
       "      <td>Sunday</td>\n",
       "      <td>183</td>\n",
       "      <td>501</td>\n",
       "      <td>64640</td>\n",
       "      <td>1610</td>\n",
       "      <td>1966</td>\n",
       "    </tr>\n",
       "    <tr>\n",
       "      <td>Sunday</td>\n",
       "      <td>156</td>\n",
       "      <td>310</td>\n",
       "      <td>40400</td>\n",
       "      <td>579</td>\n",
       "      <td>834</td>\n",
       "    </tr>\n",
       "    <tr>\n",
       "      <td>Thursday</td>\n",
       "      <td>168</td>\n",
       "      <td>486</td>\n",
       "      <td>62620</td>\n",
       "      <td>1519</td>\n",
       "      <td>1865</td>\n",
       "    </tr>\n",
       "    <tr>\n",
       "      <td>Thursday</td>\n",
       "      <td>178</td>\n",
       "      <td>352</td>\n",
       "      <td>44440</td>\n",
       "      <td>510</td>\n",
       "      <td>837</td>\n",
       "    </tr>\n",
       "    <tr>\n",
       "      <td>Tuesday</td>\n",
       "      <td>197</td>\n",
       "      <td>502</td>\n",
       "      <td>64640</td>\n",
       "      <td>1531</td>\n",
       "      <td>1913</td>\n",
       "    </tr>\n",
       "    <tr>\n",
       "      <td>Tuesday</td>\n",
       "      <td>144</td>\n",
       "      <td>300</td>\n",
       "      <td>38380</td>\n",
       "      <td>553</td>\n",
       "      <td>816</td>\n",
       "    </tr>\n",
       "    <tr>\n",
       "      <td>Tuesdday</td>\n",
       "      <td>1</td>\n",
       "      <td>21</td>\n",
       "      <td>2020</td>\n",
       "      <td>-3</td>\n",
       "      <td>15</td>\n",
       "    </tr>\n",
       "    <tr>\n",
       "      <td>Wednesday</td>\n",
       "      <td>199</td>\n",
       "      <td>578</td>\n",
       "      <td>72720</td>\n",
       "      <td>1662</td>\n",
       "      <td>2085</td>\n",
       "    </tr>\n",
       "    <tr>\n",
       "      <td>Wednesday</td>\n",
       "      <td>146</td>\n",
       "      <td>237</td>\n",
       "      <td>34340</td>\n",
       "      <td>474</td>\n",
       "      <td>728</td>\n",
       "    </tr>\n",
       "  </tbody>\n",
       "</table>\n",
       "</div>"
      ],
      "text/plain": [
       "             month  day   year  t_min  t_mean\n",
       "day_of_week                                  \n",
       "Friday         169  501  62620   1537    1875\n",
       "Friday         166  328  42420    536     835\n",
       "Monday         173  500  62620   1551    1874\n",
       "Monday         167  332  42420    601     880\n",
       "Saturday       188  528  70700   1585    2029\n",
       "Saturday       149  291  34340    572     800\n",
       "Sunday         183  501  64640   1610    1966\n",
       "Sunday         156  310  40400    579     834\n",
       "Thursday       168  486  62620   1519    1865\n",
       "Thursday       178  352  44440    510     837\n",
       "Tuesday        197  502  64640   1531    1913\n",
       "Tuesday        144  300  38380    553     816\n",
       "Tuesdday         1   21   2020     -3      15\n",
       "Wednesday      199  578  72720   1662    2085\n",
       "Wednesday      146  237  34340    474     728"
      ]
     },
     "execution_count": 10,
     "metadata": {},
     "output_type": "execute_result"
    }
   ],
   "source": [
    "d_day_grouped = d.groupby('day_of_week')\n",
    "d_day_grouped.sum()"
   ]
  },
  {
   "cell_type": "code",
   "execution_count": null,
   "metadata": {},
   "outputs": [],
   "source": []
  }
 ],
 "metadata": {
  "kernelspec": {
   "display_name": "Python 3",
   "language": "python",
   "name": "python3"
  },
  "language_info": {
   "codemirror_mode": {
    "name": "ipython",
    "version": 3
   },
   "file_extension": ".py",
   "mimetype": "text/x-python",
   "name": "python",
   "nbconvert_exporter": "python",
   "pygments_lexer": "ipython3",
   "version": "3.7.4"
  }
 },
 "nbformat": 4,
 "nbformat_minor": 2
}
