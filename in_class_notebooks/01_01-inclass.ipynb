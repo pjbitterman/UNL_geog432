{
 "cells": [
  {
   "cell_type": "markdown",
   "source": [
    "# GEOG 432/832\n",
    "## In-class notebook for lecture 1.02\n",
    "\n",
    "### What is a variable?\n",
    "Time to practice. We’ll start by looking at variables.\n",
    "\n",
    "- From algebra: a letter can represent any number, like in ```x + 2```\n",
    "- In computer science, variables represent *values* or *objects* we want the computer to store in its memory for later use\n",
    "\n",
    "- Variables don't only represent numbers\n",
    "  - ...but also text and Boolean values (‘true’ or ‘false’)\n",
    "  - input from the program’s user\n",
    "  - to store values returned from another program\n",
    "  - to represent constants\n",
    "  - etc.\n",
    "\n",
    "\n",
    "### Why use variables?\n",
    "\n",
    "- Variables make your code readable and flexible\n",
    "- Hard-coded values (also called \"magic numbers\"), mean your code is useful only in one particular scenario\n",
    "- You can manually change the values in your code to fit a different scenario\n",
    "  - tedious\n",
    "  - greater risk of making a mistake\n",
    "- Variables allow your code to be useful in many scenarios and are easy to *parameterize*, meaning you can let users change the values\n",
    "\n",
    "\n",
    "### Let's write some (basic) code\n",
    "\n",
    "- Declare the variable ```x``` and set it equal to ```5```"
   ],
   "metadata": {
    "collapsed": false
   }
  },
  {
   "cell_type": "code",
   "execution_count": 1,
   "metadata": {
    "collapsed": true
   },
   "outputs": [],
   "source": [
    "x = 5"
   ]
  },
  {
   "cell_type": "markdown",
   "source": [
    "### What happened?\n",
    "\n",
    "You’ve declared a variable *x* and set its value to 5\n",
    "In some programming languages (e.g., Java), you're required to tell the interpreter what the *type* of the variable is. Not Python.\n",
    "\n",
    "When you executed the last command, nothing *appeared* to happen, but the program now has stored this variable in memory. To prove this, type:\n"
   ],
   "metadata": {
    "collapsed": false,
    "pycharm": {
     "name": "#%% md\n"
    }
   }
  },
  {
   "cell_type": "code",
   "execution_count": 2,
   "outputs": [
    {
     "data": {
      "text/plain": "8"
     },
     "execution_count": 2,
     "metadata": {},
     "output_type": "execute_result"
    }
   ],
   "source": [
    "x + 3"
   ],
   "metadata": {
    "collapsed": false,
    "pycharm": {
     "name": "#%%\n"
    }
   }
  },
  {
   "cell_type": "markdown",
   "source": [
    "\n",
    "*What happened?*\n",
    "\n",
    "You can also print. Try:\n"
   ],
   "metadata": {
    "collapsed": false,
    "pycharm": {
     "name": "#%% md\n"
    }
   }
  },
  {
   "cell_type": "code",
   "execution_count": 3,
   "outputs": [
    {
     "name": "stdout",
     "output_type": "stream",
     "text": [
      "8\n"
     ]
    }
   ],
   "source": [
    "print(x + 3)"
   ],
   "metadata": {
    "collapsed": false,
    "pycharm": {
     "name": "#%%\n"
    }
   }
  },
  {
   "cell_type": "markdown",
   "source": [
    "We'll use the print function a lot when we're testing code\n",
    "\n",
    "\n",
    "### Some Strings\n",
    "\n",
    "Variables can also represent words, or *strings* of characters. Try this:"
   ],
   "metadata": {
    "collapsed": false,
    "pycharm": {
     "name": "#%% md\n"
    }
   }
  },
  {
   "cell_type": "code",
   "execution_count": 4,
   "outputs": [
    {
     "name": "stdout",
     "output_type": "stream",
     "text": [
      "Huskers\n"
     ]
    }
   ],
   "source": [
    "ourTeam = \"Huskers\" #or \"Hawkeyes\", or whatever your team is :)\n",
    "print(ourTeam)"
   ],
   "metadata": {
    "collapsed": false,
    "pycharm": {
     "name": "#%%\n"
    }
   }
  },
  {
   "cell_type": "markdown",
   "source": [
    "- Here, the quotation marks tell Python that you are declaring a string variable\n",
    "- Python is a powerful language for working with strings\n",
    "- A simple example of string manipulation is to add, or concatenate, two strings:\n"
   ],
   "metadata": {
    "collapsed": false,
    "pycharm": {
     "name": "#%% md\n"
    }
   }
  },
  {
   "cell_type": "code",
   "execution_count": null,
   "outputs": [],
   "source": [
    "string1 = \"Go \"\n",
    "string2 = \"Big \"\n",
    "string3 = \"Red!\"\n",
    "print(string1 + string2 + string3)"
   ],
   "metadata": {
    "collapsed": false,
    "pycharm": {
     "name": "#%%\n"
    }
   }
  },
  {
   "cell_type": "markdown",
   "source": [
    "- You **can** include a number in a string variable by putting it in quotes...\n",
    "- but you must thereafter treat it like a *string*, NOT a number\n",
    "- For example, this results in an error:"
   ],
   "metadata": {
    "collapsed": false
   }
  },
  {
   "cell_type": "code",
   "execution_count": null,
   "outputs": [],
   "source": [
    "myValue = \"5\"\n",
    "print(myValue + 3)"
   ],
   "metadata": {
    "collapsed": false,
    "pycharm": {
     "name": "#%%\n"
    }
   }
  },
  {
   "cell_type": "markdown",
   "source": [
    "*Try it, what happens?*\n",
    "\n",
    "\n",
    "### Tips for naming variables\n",
    "\n",
    "- Variable names are case sensitive. myVariable is a different variable than MyVariable.\n",
    "- Variable names cannot contain spaces\n",
    "- Variable names cannot begin with a number\n",
    "- Recommended practice for Python variables\n",
    "  - name the variable beginning with a lower-case letter\n",
    "  - then begin each subsequent word with a capital letter\n",
    "  - called \"camel case\"\n",
    "  - For example: myVariable, mySecondVariable, roadsTable, bufferField1, etc.\n",
    "- Variables cannot be reserved words such as \"import\" or \"print\"\n",
    "- *Make variable names meaningful so that others can easily read your code. This will also help you read your code and avoid making mistakes*\n",
    "\n",
    "### What can variables represent?\n",
    "\n",
    "- number and string variables we worked with above represent data types that are built into Python\n",
    "- Variables can also represent other things:\n",
    "  - such as GIS datasets\n",
    "  - tables\n",
    "  - rows\n",
    "  - geoprocessor that can run tools\n",
    "- All of these things are objects that you use when you work with ArcGIS in Python\n",
    "\n",
    "### (Most) everything is an object\n",
    "\n",
    "In Python, everything is an object. All objects have:\n",
    "\n",
    "- a unique ID, or location in the computer’s memory\n",
    "- a set of properties that describe the object\n",
    "- a set of methods, or things that the object can do\n",
    "\n",
    "### Using objects: Let's pretend\n",
    "\n",
    "#### Task\n",
    "\n",
    "We're writing a program to make a peanut butter and jelly sandwich. If we were to write the program in a procedural language, it would flow something like this:\n",
    "\n",
    "1. Go to the refrigerator and get the jelly and bread\n",
    "2. Go to the cupboard and get the peanut butter\n",
    "3. Take out two slices of bread\n",
    "4. Open the jars\n",
    "5. Get a knife\n",
    "6. Put some peanut butter on the knife\n",
    "7. Spread the peanut butter on one piece of bread\n",
    "8. etc.\n",
    "\n",
    "### In an object-oriented (o-o) language:\n",
    "\n",
    "Something like this (note, this will not work, as we have not declared a ```sandwich``` class:"
   ],
   "metadata": {
    "collapsed": false
   }
  },
  {
   "cell_type": "code",
   "execution_count": null,
   "outputs": [],
   "source": [
    "mySandwich = Sandwich.Make\n",
    "mySandwich.Bread = Wheat\n",
    "mySandwich.Add(PeanutButter)\n",
    "mySandwich.Add(Jelly)"
   ],
   "metadata": {
    "collapsed": false,
    "pycharm": {
     "name": "#%%\n"
    }
   }
  },
  {
   "cell_type": "markdown",
   "source": [
    "The sandwich object \"knows how\" to build itself, given just a few pieces of information.\n",
    "\n",
    "You can define the properties of the sandwich (like the bread type) and perform *methods* (or actions) on the sandwich, such as adding the peanut butter and jelly\n",
    "\n",
    "### Classes\n",
    "\n",
    "Why so easy?\n",
    "- Someone did the work!\n",
    "  - Defined what a sandwich is\n",
    "  - What you can do with it\n",
    "\n",
    "They did this using a *class*\n",
    "\n",
    "A *class* defines:\n",
    "\n",
    "- how to create an object\n",
    "- properties available to that object\n",
    "- methods available to that object\n",
    "- how the properties are set and used\n",
    "- what each method does\n",
    "\n",
    "### A class is a blueprint for creating objects\n",
    "\n",
    "#### The blueprint determines what properties and methods an object of that class will have\n",
    "\n",
    "A common analogy is that of a car factory\n",
    "\n",
    "- Produces thousands of cars of the same model, built using the same blueprint\n",
    "- A class produces objects that have the same predefined properties and methods\n",
    "\n",
    "\n",
    "### Classes in Python\n",
    "\n",
    "- Classes are grouped together into *modules*\n",
    "- You import modules into your code to tell your program what objects you’ll be working with\n",
    "- You can write modules yourself, but most likely you'll bring them in from other parties or software packages. For example, the first line of most scripts you write in this course will be:\n"
   ],
   "metadata": {
    "collapsed": false
   }
  },
  {
   "cell_type": "code",
   "execution_count": null,
   "outputs": [],
   "source": [
    "### Only works inside ArcGIS Pro (unless we change our environment substantially)\n",
    "import arcpy"
   ],
   "metadata": {
    "collapsed": false,
    "pycharm": {
     "name": "#%%\n"
    }
   }
  },
  {
   "cell_type": "markdown",
   "source": [
    "# Python syntax\n",
    "\n",
    "## Every programming language has rules\n",
    "\n",
    "- capitalization\n",
    "- white space\n",
    "- how to set apart lines of code and procedures, and so on\n",
    "\n",
    "---\n",
    "\n",
    "# Basic syntactical rules to remember\n",
    "\n",
    "- Python is *case-sensitive* both in variable names and reserved words\n",
    "  - Important whether you use upper or lower-case\n",
    "  - All lower-case \"print\" is a reserved word in Python that will print a value, while \"Print\" is unrecognized and will return an error\n",
    "  - arcpy is *very* sensitive about case and will return an error if you try to run a tool without capitalizing the tool name\n",
    "\n",
    "- You end a Python statement by pressing **Enter** and literally beginning a new line. It’s okay to add empty lines to divide your code into logical sections\n",
    "\n",
    "- If you have a long statement that you want to display on multiple lines for readability, you need to use a line continuation character, which in Python is a backslash ```\\```\n",
    "\n",
    "---\n",
    "\n",
    "# Basic rules continued\n",
    "\n",
    "- Indentation is required to logically group together certain lines, or blocks, of code\n",
    "- Indent your code four spaces inside loops, if/then statements, and try/except statements\n",
    "- In most programming languages developers are encouraged to use indentation to logically group together blocks of code; however, in Python, indentation of these language constructs is not only encouraged, but **required**\n",
    "- Seems like a pain, but results in greater readability\n",
    "\n",
    "---\n",
    "# More rules!\n",
    "\n",
    "## Add a comment to your code by beginning the line with a ```#``` character\n",
    "\n",
    "- Comments are lines that you include to explain what the code is doing\n",
    "- Comments are ignored by Python when it runs the script, so use them at any place in your code\n",
    "- Comments help others\n",
    "- Comments help you! (and especially *FUTURE* you!)\n",
    "- The intended audience for comments is developers\n",
    "\n",
    "---\n",
    "\n",
    "# Adding documentation\n",
    "\n",
    "- Add documentation to your code by surrounding a block of text with ```\"\"\"``` (3 consecutive double quotes) on either side\n",
    "- Text surrounded by ```\"\"\"``` is ignored when Python runs the script.\n",
    "- Unlike comments, which are sprinkled throughout scripts, documentation strings are generally found at the beginning of scripts.  Their intended audience is end users of the script (non-developers)\n",
    "\n",
    "---\n",
    "\n",
    "# A first example"
   ],
   "metadata": {
    "collapsed": false
   }
  },
  {
   "cell_type": "code",
   "execution_count": null,
   "outputs": [],
   "source": [
    "# Opens a feature class from a geodatabase and prints the spatial reference\n",
    "# Will only run in ArcGIS, or if you setup your environment properly outside of the lab\n",
    "import arcpy\n",
    "\n",
    "featureClass = \"C:/Data/USA/USA.gdb/Boundaries\"\n",
    "\n",
    "# Describe the feature class and get its spatial reference\n",
    "desc = arcpy.Describe(featureClass)\n",
    "spatialRef = desc.spatialReference\n",
    "\n",
    "# Print the spatial reference name\n",
    "print (spatialRef.Name)\n"
   ],
   "metadata": {
    "collapsed": false,
    "pycharm": {
     "name": "#%%\n"
    }
   }
  },
  {
   "cell_type": "markdown",
   "source": [
    "\n",
    "### What are some concepts that we've talked about are demonstrated in this code block?\n",
    "\n",
    "#### For next class\n",
    "\n",
    "- Chapters 1 & 2 are relevant (if you haven't read already)\n",
    "- Practice on your own. Install Anaconda or another *free* Python interpreter\n",
    "  - Pycharm is good too\n"
   ],
   "metadata": {
    "collapsed": false
   }
  },
  {
   "cell_type": "markdown",
   "source": [],
   "metadata": {
    "collapsed": false
   }
  }
 ],
 "metadata": {
  "kernelspec": {
   "display_name": "Python 3",
   "language": "python",
   "name": "python3"
  },
  "language_info": {
   "codemirror_mode": {
    "name": "ipython",
    "version": 2
   },
   "file_extension": ".py",
   "mimetype": "text/x-python",
   "name": "python",
   "nbconvert_exporter": "python",
   "pygments_lexer": "ipython2",
   "version": "2.7.6"
  }
 },
 "nbformat": 4,
 "nbformat_minor": 0
}