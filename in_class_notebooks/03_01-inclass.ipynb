{
 "cells": [
  {
   "cell_type": "markdown",
   "metadata": {
    "collapsed": true,
    "pycharm": {
     "name": "#%% md\n"
    }
   },
   "source": [
    "# Download the in-class data\n",
    "\n",
    "- Start a new ArcGIS Pro project\n",
    "- Download ```week03inclass.zip``` from GitHub repository\n",
    "- Extract it to the same folder as your project\n",
    "\n",
    "\n",
    "# Importing ArcPy\n",
    "\n",
    "- Working with ArcPy starts with importing the package\n",
    "- A typical geoprocessing script therefore starts with the following line of code:\n"
   ]
  },
  {
   "cell_type": "code",
   "execution_count": null,
   "outputs": [],
   "source": [
    "import arcpy\n",
    "## Not necessary if using Python from ArcGIS Pro!"
   ],
   "metadata": {
    "collapsed": false,
    "pycharm": {
     "name": "#%%\n"
    }
   }
  },
  {
   "cell_type": "markdown",
   "source": [
    "\n",
    "# Data storage\n",
    "\n",
    "## Discussion question:\n",
    "\n",
    "*How do we store spatial data? What methods, structures, or systems are you familiar with?*\n",
    "\n",
    "\n",
    "# Geodatabases\n",
    "\n",
    "## Esri has developed multiple ways of storing spatial data\n",
    "\n",
    "- You are encouraged to put your data in **geodatabases:**\n",
    "    - organizational structures for storing datasets and defining relationships between those datasets.\n",
    "- Different \"flavors\" of geodatabase are offered for storing different magnitudes of data\n",
    "\n",
    "1. **File geodatabases**:\n",
    "    1. store data locally\n",
    "    2. using an ESRI-proprietary format\n",
    "    3. more functionality than shapefiles\n",
    "\n",
    "\n",
    "# ArcPro has more...\n",
    "\n",
    "2. **ArcSDE geodatabases** or \"enterprise geodatabases\":\n",
    "    1. store data on a central server in a relational database management system (RDBMS) such as SQL Server, Oracle, or PostgreSQL. 2. ArcSDE is \"middleware\" that allows you to configure and read your datasets without touching the RDBMS software\n",
    "\n",
    "\n",
    "- can also pull data directly out of an RDBMS using SQL queries, with no ArcSDE involved, through **query layers**\n",
    "\n",
    "- A single vector dataset within a geodatabase is called a **feature class**\n",
    "    - Feature classes can be optionally organized in **feature datasets**\n",
    "    - Raster datasets can also be stored in geodatabases\n",
    "\n",
    "\n",
    "# Shapefiles\n",
    "\n",
    "## Discussion: what's a shapefile?\n",
    "\n",
    "\n",
    "# A shapefile is...\n",
    "\n",
    "- A \"standalone\" **vector** data format\n",
    "- Actually consists of several files that work together to store vector geometries and attributes\n",
    "- The files all have the same root name, but use different extensions\n",
    "\n",
    "## In the Esri file browsers in ArcGIS Pro (and ArcMap, and QGIS), the shapefiles appear as a single file\n",
    "\n",
    "\n",
    "# GDBs vs. shapefiles\n",
    "\n",
    "- When should we use a GDB or a shapefile?\n",
    "- Largely personal preference, but...\n",
    "    - GDB is a useful \"container\"\n",
    "    - provides additional structural advantages over shapefiles\n",
    "    - custom point, line and polygon features\n",
    "    - Networks, subtypes, etc.\n",
    "- Downsides:\n",
    "    - Is ESRI-specific... locks you in (there is an API, but is limited)\n",
    "\n",
    "### ArcGIS Pro by DEFAULT creates a .gdb for each project\n",
    "\n",
    "\n",
    "# Paths\n",
    "\n",
    "- Often in a script, you'll need to provide the path to a dataset\n",
    "\n",
    "- Syntax for specifying the path is sometimes tricky because of the many different ways of storing data listed above. **Why?**\n",
    "    - Navigate to a Geodatabase on your computer. What do you see?\n",
    "    - What about a shapefile?\n",
    "\n",
    "So what to do? **(until you get the hang of it - and sometimes even after)**\n",
    "\n",
    "1. Check ArcGISPro's Catalog View and browse to the dataset\n",
    "2. The location box along the top indicates the directory or geodatabase whose contents are being viewed. Clicking the breadcrumbs or dropdown arrow displays the full path\n",
    "- Alternatively, you could right-click any feature class from either the Catalog View or Catalog Pane, go to Properties, then click the Source tab to access its path\n",
    "\n",
    "\n",
    "# Path syntax reminder\n",
    "\n",
    "- You can't use a single backward slash ```(\\)``` for paths. Why?\n",
    "- because Python views it as an escape character\n",
    "- Other correct notations are ```r\"C:\\Data\"``` and ```\"C:\\\\Data\"```\n",
    "\n",
    "- A path is a *string variable*\n",
    "\n",
    "\n",
    "# Workspaces\n",
    "\n",
    "- The Esri geoprocessing framework  uses the notion of a **workspace** to denote the folder or geodatabase where you're working\n",
    "- When you specify a workspace, you don't have to list the full path to every dataset\n",
    "- When you run a tool, the geoprocessor sees the feature class name and *assumes that it resides in the workspace you specified*\n",
    "\n",
    "### Other utility\n",
    "\n",
    "- Workspaces are especially useful for batch processing, when you perform the same action on many datasets in the workspace\n",
    "- For example, you may want to clip all the feature classes in a folder to the boundary of your county\n",
    "\n",
    "\n",
    "# Setting a workspace\n",
    "\n",
    "A workspace provides a default location for the files you will be working with, such as inputs and outputs of geoprocessing tools.\n",
    "\n",
    "For example, here is how to set the current workspace to ```C:\\Data```:"
   ],
   "metadata": {
    "collapsed": false,
    "pycharm": {
     "name": "#%% md\n"
    }
   }
  },
  {
   "cell_type": "code",
   "execution_count": null,
   "outputs": [],
   "source": [
    "import arcpy\n",
    "arcpy.env.workspace = \"C:/Data\"\n",
    "# or arcpy.env.workspace = \"C:\\\\Data\""
   ],
   "metadata": {
    "collapsed": false,
    "pycharm": {
     "name": "#%%\n"
    }
   }
  },
  {
   "cell_type": "markdown",
   "source": [
    "# Complicating factors\n",
    "\n",
    "- A Python script also has a current working directory, which by default is the location of the script\n",
    "\n",
    "- You can get the current working directory using ```os.getcwd()```, and change it using ```os.chdir()```\n",
    "\n",
    "## However...!!!\n",
    "However, these Python-only options are **not enough** to work with geospatial datasets\n",
    "- not all valid workspaces in ArcGIS Pro are recognized by the Windows operating system\n",
    "- so set the workspace in a geoprocessing script using ```arcpy.env.workspace```\n",
    "\n",
    "\n",
    "# Let's actually do some work!\n"
   ],
   "metadata": {
    "collapsed": false,
    "pycharm": {
     "name": "#%% md\n"
    }
   }
  },
  {
   "cell_type": "markdown",
   "source": [
    "# Start simple\n",
    "\n",
    "## setup and list some files\n",
    "\n",
    "1. Start a new project in ArcGIS Pro\n",
    "2. Put the \"week 03 data\" in that directory\n",
    "*(your workspace will be different than  mine)*\n",
    "\n",
    "### BEFORE RUNNING THE CODE, WHAT IS GOING TO HAPPEN?"
   ],
   "metadata": {
    "collapsed": false,
    "pycharm": {
     "name": "#%% md\n"
    }
   }
  },
  {
   "cell_type": "code",
   "execution_count": null,
   "outputs": [],
   "source": [
    "# set the workspace to the path where your data are\n",
    "arcpy.env.workspace = \"C:\\\\Users\\\\pjbitterman\\\\Dropbox\\\\GEOG432\\\\week03\\\\week03data\"\n",
    "\n",
    "myFiles = arcpy.ListFiles()\n",
    "\n",
    "myFeatureClasses = arcpy.ListFeatureClasses()\n",
    "\n",
    "myFiles\n",
    "\n",
    "myFeatureClasses"
   ],
   "metadata": {
    "collapsed": false,
    "pycharm": {
     "name": "#%%\n"
    }
   }
  },
  {
   "cell_type": "code",
   "execution_count": null,
   "outputs": [],
   "source": [
    "# Feature class properties\n",
    "### What's your expectations?\n",
    "\n",
    "myFc = \"Municipal_Boundaries.shp\"\n",
    "desc = arcpy.Describe(myFc)\n",
    "spatialRef = desc.SpatialReference\n",
    "print(spatialRef.Name)"
   ],
   "metadata": {
    "collapsed": false,
    "pycharm": {
     "name": "#%%\n"
    }
   }
  },
  {
   "cell_type": "markdown",
   "source": [
    "# Let's batch it a bit\n",
    "\n",
    "\n",
    "### What will this code do?"
   ],
   "metadata": {
    "collapsed": false,
    "pycharm": {
     "name": "#%% md\n"
    }
   }
  },
  {
   "cell_type": "code",
   "execution_count": null,
   "outputs": [],
   "source": [
    "for fc in myFeatureClasses:\n",
    "    desc = arcpy.Describe(fc)\n",
    "    spatialRef = desc.SpatialReference\n",
    "    print(fc, spatialRef.Name, spatialRef.VCS)\n",
    "\n",
    "### What did it print? How do you know? *(and if not, how would you find out?)*"
   ],
   "metadata": {
    "collapsed": false,
    "pycharm": {
     "name": "#%%\n"
    }
   }
  },
  {
   "cell_type": "markdown",
   "source": [
    "# Accessing fields (refresher)\n",
    "\n",
    "- Vector features in ArcGIS feature classes are stored in a table with records (rows) and attributes (columns)\n",
    "\n",
    "- Fields in the table store the geometry **and** attribute information for the features\n",
    "\n",
    "- There are two fields in the table that you cannot delete\n",
    "1. The geometry of the feature (usually called Shape), stored in binary format\n",
    "2. object ID field (OBJECTID or FID). This contains a unique number, or identifier for each record that is used by ArcGIS to keep track of features\n",
    "\n",
    "- The rest of the fields contain attribute information that describe the feature. These attributes are usually stored as numbers or text\n",
    "\n",
    "\n",
    "# Accessing fields (the code)\n",
    "\n",
    "### We always break down the code before we run it...\n"
   ],
   "metadata": {
    "collapsed": false,
    "pycharm": {
     "name": "#%% md\n"
    }
   }
  },
  {
   "cell_type": "code",
   "execution_count": null,
   "outputs": [],
   "source": [
    "# fields\n",
    "\n",
    "parksFc = \"State_Park_Locations.shp\"\n",
    "fieldList = arcpy.ListFields(parksFc)\n",
    "\n",
    "# Loop through each field in the list and print the name\n",
    "for field in fieldList:\n",
    "    print (field.name)"
   ],
   "metadata": {
    "collapsed": false,
    "pycharm": {
     "name": "#%%\n"
    }
   }
  },
  {
   "cell_type": "markdown",
   "source": [
    "# More about fields\n",
    "\n",
    "## What to note?:\n",
    "\n",
    "- OBJECTID, which holds the unique identifying number for each record, and Shape, which holds the geometry for the record\n",
    "- Other fields?\n",
    "\n",
    "### arcpy treats the field as an object\n",
    "- field has properties that describe it (like ```field.name```)\n",
    "- The ESRI help reference topic: [Using fields and indexes](https://pro.arcgis.com/en/pro-app/latest/arcpy/get-started/fields-and-indexes.htm) lists all the properties that you can read from a field\n",
    "\n",
    "- Field properties are read-only\n",
    "- To change field properties (e.g., scale, precision), add a new field\n"
   ],
   "metadata": {
    "collapsed": false,
    "pycharm": {
     "name": "#%% md\n"
    }
   }
  },
  {
   "cell_type": "markdown",
   "source": [
    "# Let's try a function\n",
    "\n",
    "## What does the **Clip** function do?\n",
    "\n",
    "Let's break down this code:"
   ],
   "metadata": {
    "collapsed": false,
    "pycharm": {
     "name": "#%% md\n"
    }
   }
  },
  {
   "cell_type": "code",
   "execution_count": null,
   "outputs": [],
   "source": [
    "arcpy.Clip_analysis(\"State_Park_Locations.shp\", \"lancaster_county.shp\", \"myFirstOutput.shp\")\n",
    "\n",
    "# Run it - what happens?"
   ],
   "metadata": {
    "collapsed": false,
    "pycharm": {
     "name": "#%%\n"
    }
   }
  },
  {
   "cell_type": "markdown",
   "source": [
    "# A function in a loop\n",
    "\n",
    "### Break it down first... expectations?"
   ],
   "metadata": {
    "collapsed": false,
    "pycharm": {
     "name": "#%% md\n"
    }
   }
  },
  {
   "cell_type": "code",
   "execution_count": null,
   "outputs": [],
   "source": [
    "import arcpy # unnecessary if already done above\n",
    "import os\n",
    "\n",
    "featureClassList = arcpy.ListFeatureClasses()\n",
    "clipFeature = \"lancaster_county.shp\"\n",
    "\n",
    "if not os.path.exists(\"tempoutput\"):\n",
    "    os.makedirs(\"tempoutput\")\n",
    "\n",
    "for featureClass in featureClassList:\n",
    "    arcpy.Clip_analysis(featureClass, clipFeature, \"\\\\tempoutput\\\\\" + \"lc_clip_\" + featureClass)\n"
   ],
   "metadata": {
    "collapsed": false,
    "pycharm": {
     "name": "#%%\n"
    }
   }
  },
  {
   "cell_type": "markdown",
   "source": [
    "### What happened? What issues did it create? And how might you fix them?"
   ],
   "metadata": {
    "collapsed": false,
    "pycharm": {
     "name": "#%% md\n"
    }
   }
  }
 ],
 "metadata": {
  "kernelspec": {
   "display_name": "Python 3",
   "language": "python",
   "name": "python3"
  },
  "language_info": {
   "codemirror_mode": {
    "name": "ipython",
    "version": 2
   },
   "file_extension": ".py",
   "mimetype": "text/x-python",
   "name": "python",
   "nbconvert_exporter": "python",
   "pygments_lexer": "ipython2",
   "version": "2.7.6"
  }
 },
 "nbformat": 4,
 "nbformat_minor": 0
}