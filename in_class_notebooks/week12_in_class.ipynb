{
 "cells": [
  {
   "cell_type": "code",
   "execution_count": 1,
   "metadata": {
    "ExecuteTime": {
     "end_time": "2023-12-01T17:10:20.716803Z",
     "start_time": "2023-12-01T17:10:19.766322Z"
    }
   },
   "outputs": [
    {
     "name": "stderr",
     "output_type": "stream",
     "text": [
      "/Users/pjbitterman/opt/anaconda3/envs/fixed_hopefully/lib/python3.8/site-packages/geopandas/_compat.py:123: UserWarning: The Shapely GEOS version (3.8.0-CAPI-1.13.1) is incompatible with the GEOS version PyGEOS was compiled with (3.10.4-CAPI-1.16.2). Conversions between both will be slow.\n",
      "  warnings.warn(\n",
      "<string>:1: UserWarning: Shapely 2.0 is installed, but because PyGEOS is also installed, GeoPandas will still use PyGEOS by default for now. To force to use and test Shapely 2.0, you have to set the environment variable USE_PYGEOS=0. You can do this before starting the Python process, or in your code before importing geopandas:\n",
      "\n",
      "import os\n",
      "os.environ['USE_PYGEOS'] = '0'\n",
      "import geopandas\n",
      "\n",
      "In a future release, GeoPandas will switch to using Shapely by default. If you are using PyGEOS directly (calling PyGEOS functions on geometries from GeoPandas), this will then stop working and you are encouraged to migrate from PyGEOS to Shapely 2.0 (https://shapely.readthedocs.io/en/latest/migration_pygeos.html).\n"
     ]
    }
   ],
   "source": [
    "%matplotlib inline\n",
    "\n",
    "import seaborn as sns\n",
    "import pandas as pd\n",
    "from libpysal import weights\n",
    "import geopandas as gpd\n",
    "import numpy as np\n",
    "import matplotlib.pyplot as plt\n"
   ]
  },
  {
   "cell_type": "code",
   "execution_count": 5,
   "metadata": {
    "ExecuteTime": {
     "end_time": "2023-12-01T17:10:39.603498Z",
     "start_time": "2023-12-01T17:10:39.574135Z"
    }
   },
   "outputs": [
    {
     "name": "stdout",
     "output_type": "stream",
     "text": [
      "<class 'geopandas.geodataframe.GeoDataFrame'>\n",
      "Index: 74 entries, 31109001302 to 31109001200\n",
      "Data columns (total 17 columns):\n",
      " #   Column      Non-Null Count  Dtype   \n",
      "---  ------      --------------  -----   \n",
      " 0   OBJECTID    74 non-null     int64   \n",
      " 1   STATEFP10   74 non-null     object  \n",
      " 2   COUNTYFP10  74 non-null     object  \n",
      " 3   TRACTCE10   74 non-null     object  \n",
      " 4   GEOID10     74 non-null     object  \n",
      " 5   NAME10      74 non-null     object  \n",
      " 6   NAMELSAD10  74 non-null     object  \n",
      " 7   MTFCC10     74 non-null     object  \n",
      " 8   FUNCSTAT10  74 non-null     object  \n",
      " 9   ALAND10     74 non-null     int64   \n",
      " 10  AWATER10    74 non-null     int64   \n",
      " 11  INTPTLAT10  74 non-null     object  \n",
      " 12  INTPTLON10  74 non-null     object  \n",
      " 13  GDB_GEOMAT  0 non-null      float64 \n",
      " 14  Shape__Are  74 non-null     float64 \n",
      " 15  Shape__Len  74 non-null     float64 \n",
      " 16  geometry    74 non-null     geometry\n",
      "dtypes: float64(3), geometry(1), int64(3), object(10)\n",
      "memory usage: 12.5+ KB\n"
     ]
    },
    {
     "data": {
      "text/plain": "<geopandas.plotting.GeoplotAccessor object at 0x7fafb047de80>"
     },
     "execution_count": 5,
     "metadata": {},
     "output_type": "execute_result"
    }
   ],
   "source": [
    "# read data\n",
    "db = gpd.read_file(\"./week12inclass/tracts_2010_lc.shp\")\n",
    "\n",
    "# Index table on the GEOID\n",
    "db = db.set_index(\"GEOID10\", drop=False)\n",
    "\n",
    "# Display summary\n",
    "db.info()"
   ]
  },
  {
   "cell_type": "code",
   "execution_count": 3,
   "metadata": {
    "ExecuteTime": {
     "end_time": "2023-12-01T17:10:23.600331Z",
     "start_time": "2023-12-01T17:10:23.544304Z"
    }
   },
   "outputs": [
    {
     "data": {
      "text/plain": "<Geographic 2D CRS: EPSG:4326>\nName: WGS 84\nAxis Info [ellipsoidal]:\n- Lat[north]: Geodetic latitude (degree)\n- Lon[east]: Geodetic longitude (degree)\nArea of Use:\n- name: World.\n- bounds: (-180.0, -90.0, 180.0, 90.0)\nDatum: World Geodetic System 1984 ensemble\n- Ellipsoid: WGS 84\n- Prime Meridian: Greenwich"
     },
     "execution_count": 3,
     "metadata": {},
     "output_type": "execute_result"
    }
   ],
   "source": [
    "db.crs\n",
    "#wgs84"
   ]
  },
  {
   "cell_type": "code",
   "execution_count": 4,
   "metadata": {
    "ExecuteTime": {
     "end_time": "2023-11-29T21:47:39.513877Z",
     "start_time": "2023-11-29T21:47:39.203990Z"
    }
   },
   "outputs": [],
   "source": [
    "#let's project it (in place)\n",
    "db = db.to_crs(epsg=26914) # EPSG for NAD84 UTM 14N"
   ]
  },
  {
   "cell_type": "code",
   "execution_count": 5,
   "metadata": {
    "ExecuteTime": {
     "end_time": "2023-11-29T21:47:39.540864Z",
     "start_time": "2023-11-29T21:47:39.518519Z"
    }
   },
   "outputs": [
    {
     "name": "stderr",
     "output_type": "stream",
     "text": [
      "/var/folders/wc/y8x0lwys7d7c8tfp4kpwxy8w0000gn/T/ipykernel_67176/2221968793.py:2: FutureWarning: `idVariable` is deprecated and will be removed in future. Use `ids` instead.\n",
      "  w_queen = weights.Queen.from_dataframe(db, idVariable=\"GEOID10\")\n"
     ]
    },
    {
     "data": {
      "text/plain": "<libpysal.weights.contiguity.Queen at 0x7f7b495f0460>"
     },
     "execution_count": 5,
     "metadata": {},
     "output_type": "execute_result"
    }
   ],
   "source": [
    "# Weights matrix under queen contiguity\n",
    "w_queen = weights.Queen.from_dataframe(db, idVariable=\"GEOID10\")\n",
    "w_queen"
   ]
  },
  {
   "cell_type": "code",
   "execution_count": 6,
   "metadata": {
    "ExecuteTime": {
     "end_time": "2023-11-29T21:47:39.555861Z",
     "start_time": "2023-11-29T21:47:39.543448Z"
    }
   },
   "outputs": [
    {
     "data": {
      "text/plain": "             OBJECTID STATEFP10 COUNTYFP10 TRACTCE10      GEOID10 NAME10  \\\nGEOID10                                                                    \n31109001302       375        31        109    001302  31109001302  13.02   \n31109001400       376        31        109    001400  31109001400     14   \n31109001500       377        31        109    001500  31109001500     15   \n31109001600       378        31        109    001600  31109001600     16   \n31109001700       379        31        109    001700  31109001700     17   \n\n                     NAMELSAD10 MTFCC10 FUNCSTAT10  ALAND10  AWATER10  \\\nGEOID10                                                                 \n31109001302  Census Tract 13.02   G5020          S  2176814         0   \n31109001400     Census Tract 14   G5020          S  2726305         0   \n31109001500     Census Tract 15   G5020          S  2807893         0   \n31109001600     Census Tract 16   G5020          S  2572821         0   \n31109001700     Census Tract 17   G5020          S  1263366         0   \n\n              INTPTLAT10    INTPTLON10  GDB_GEOMAT    Shape__Are  \\\nGEOID10                                                            \n31109001302  +40.7927167  -096.6340321         NaN  2.341853e+07   \n31109001400  +40.8064054  -096.6532808         NaN  2.932990e+07   \n31109001500  +40.7932287  -096.6560502         NaN  3.020778e+07   \n31109001600  +40.8064997  -096.6728453         NaN  2.767876e+07   \n31109001700  +40.8031881  -096.6894790         NaN  1.359143e+07   \n\n               Shape__Len                                           geometry  \nGEOID10                                                                       \n31109001302  20361.716815  POLYGON ((699870.923 4519138.802, 700042.809 4...  \n31109001400  21984.171116  POLYGON ((698131.027 4519091.635, 698037.039 4...  \n31109001500  25712.716123  POLYGON ((696418.208 4518798.073, 696414.116 4...  \n31109001600  21877.890524  POLYGON ((695874.101 4520653.849, 695955.919 4...  \n31109001700  17301.104765  POLYGON ((695260.378 4519017.706, 695165.541 4...  ",
      "text/html": "<div>\n<style scoped>\n    .dataframe tbody tr th:only-of-type {\n        vertical-align: middle;\n    }\n\n    .dataframe tbody tr th {\n        vertical-align: top;\n    }\n\n    .dataframe thead th {\n        text-align: right;\n    }\n</style>\n<table border=\"1\" class=\"dataframe\">\n  <thead>\n    <tr style=\"text-align: right;\">\n      <th></th>\n      <th>OBJECTID</th>\n      <th>STATEFP10</th>\n      <th>COUNTYFP10</th>\n      <th>TRACTCE10</th>\n      <th>GEOID10</th>\n      <th>NAME10</th>\n      <th>NAMELSAD10</th>\n      <th>MTFCC10</th>\n      <th>FUNCSTAT10</th>\n      <th>ALAND10</th>\n      <th>AWATER10</th>\n      <th>INTPTLAT10</th>\n      <th>INTPTLON10</th>\n      <th>GDB_GEOMAT</th>\n      <th>Shape__Are</th>\n      <th>Shape__Len</th>\n      <th>geometry</th>\n    </tr>\n    <tr>\n      <th>GEOID10</th>\n      <th></th>\n      <th></th>\n      <th></th>\n      <th></th>\n      <th></th>\n      <th></th>\n      <th></th>\n      <th></th>\n      <th></th>\n      <th></th>\n      <th></th>\n      <th></th>\n      <th></th>\n      <th></th>\n      <th></th>\n      <th></th>\n      <th></th>\n    </tr>\n  </thead>\n  <tbody>\n    <tr>\n      <th>31109001302</th>\n      <td>375</td>\n      <td>31</td>\n      <td>109</td>\n      <td>001302</td>\n      <td>31109001302</td>\n      <td>13.02</td>\n      <td>Census Tract 13.02</td>\n      <td>G5020</td>\n      <td>S</td>\n      <td>2176814</td>\n      <td>0</td>\n      <td>+40.7927167</td>\n      <td>-096.6340321</td>\n      <td>NaN</td>\n      <td>2.341853e+07</td>\n      <td>20361.716815</td>\n      <td>POLYGON ((699870.923 4519138.802, 700042.809 4...</td>\n    </tr>\n    <tr>\n      <th>31109001400</th>\n      <td>376</td>\n      <td>31</td>\n      <td>109</td>\n      <td>001400</td>\n      <td>31109001400</td>\n      <td>14</td>\n      <td>Census Tract 14</td>\n      <td>G5020</td>\n      <td>S</td>\n      <td>2726305</td>\n      <td>0</td>\n      <td>+40.8064054</td>\n      <td>-096.6532808</td>\n      <td>NaN</td>\n      <td>2.932990e+07</td>\n      <td>21984.171116</td>\n      <td>POLYGON ((698131.027 4519091.635, 698037.039 4...</td>\n    </tr>\n    <tr>\n      <th>31109001500</th>\n      <td>377</td>\n      <td>31</td>\n      <td>109</td>\n      <td>001500</td>\n      <td>31109001500</td>\n      <td>15</td>\n      <td>Census Tract 15</td>\n      <td>G5020</td>\n      <td>S</td>\n      <td>2807893</td>\n      <td>0</td>\n      <td>+40.7932287</td>\n      <td>-096.6560502</td>\n      <td>NaN</td>\n      <td>3.020778e+07</td>\n      <td>25712.716123</td>\n      <td>POLYGON ((696418.208 4518798.073, 696414.116 4...</td>\n    </tr>\n    <tr>\n      <th>31109001600</th>\n      <td>378</td>\n      <td>31</td>\n      <td>109</td>\n      <td>001600</td>\n      <td>31109001600</td>\n      <td>16</td>\n      <td>Census Tract 16</td>\n      <td>G5020</td>\n      <td>S</td>\n      <td>2572821</td>\n      <td>0</td>\n      <td>+40.8064997</td>\n      <td>-096.6728453</td>\n      <td>NaN</td>\n      <td>2.767876e+07</td>\n      <td>21877.890524</td>\n      <td>POLYGON ((695874.101 4520653.849, 695955.919 4...</td>\n    </tr>\n    <tr>\n      <th>31109001700</th>\n      <td>379</td>\n      <td>31</td>\n      <td>109</td>\n      <td>001700</td>\n      <td>31109001700</td>\n      <td>17</td>\n      <td>Census Tract 17</td>\n      <td>G5020</td>\n      <td>S</td>\n      <td>1263366</td>\n      <td>0</td>\n      <td>+40.8031881</td>\n      <td>-096.6894790</td>\n      <td>NaN</td>\n      <td>1.359143e+07</td>\n      <td>17301.104765</td>\n      <td>POLYGON ((695260.378 4519017.706, 695165.541 4...</td>\n    </tr>\n  </tbody>\n</table>\n</div>"
     },
     "execution_count": 6,
     "metadata": {},
     "output_type": "execute_result"
    }
   ],
   "source": [
    "db.head()"
   ]
  },
  {
   "cell_type": "code",
   "execution_count": 7,
   "metadata": {
    "ExecuteTime": {
     "end_time": "2023-11-29T21:47:39.558748Z",
     "start_time": "2023-11-29T21:47:39.556044Z"
    }
   },
   "outputs": [
    {
     "data": {
      "text/plain": "{'31109002001': 1.0,\n '31109001500': 1.0,\n '31109001900': 1.0,\n '31109002500': 1.0,\n '31109001800': 1.0,\n '31109002200': 1.0,\n '31109001600': 1.0,\n '31109002300': 1.0}"
     },
     "execution_count": 7,
     "metadata": {},
     "output_type": "execute_result"
    }
   ],
   "source": [
    "# Let's look at the neighbors for a random tract\n",
    "w_queen['31109001700']\n",
    "# output is a dict"
   ]
  },
  {
   "cell_type": "code",
   "execution_count": 8,
   "metadata": {
    "ExecuteTime": {
     "end_time": "2023-11-29T21:47:39.591891Z",
     "start_time": "2023-11-29T21:47:39.559197Z"
    }
   },
   "outputs": [
    {
     "data": {
      "text/plain": "1.0"
     },
     "execution_count": 8,
     "metadata": {},
     "output_type": "execute_result"
    }
   ],
   "source": [
    "# Pairwise comparison. What is the weight between two features?\n",
    "w_queen['31109001700']['31109002500']"
   ]
  },
  {
   "cell_type": "code",
   "execution_count": 9,
   "metadata": {
    "ExecuteTime": {
     "end_time": "2023-11-29T21:47:39.937241Z",
     "start_time": "2023-11-29T21:47:39.562518Z"
    }
   },
   "outputs": [
    {
     "ename": "KeyError",
     "evalue": "'31109001400'",
     "output_type": "error",
     "traceback": [
      "\u001B[0;31m---------------------------------------------------------------------------\u001B[0m",
      "\u001B[0;31mKeyError\u001B[0m                                  Traceback (most recent call last)",
      "Cell \u001B[0;32mIn[9], line 2\u001B[0m\n\u001B[1;32m      1\u001B[0m \u001B[38;5;66;03m# these features aren't neighbors, so the weight is not in the dict. will return an error\u001B[39;00m\n\u001B[0;32m----> 2\u001B[0m \u001B[43mw_queen\u001B[49m\u001B[43m[\u001B[49m\u001B[38;5;124;43m'\u001B[39;49m\u001B[38;5;124;43m31109001700\u001B[39;49m\u001B[38;5;124;43m'\u001B[39;49m\u001B[43m]\u001B[49m\u001B[43m[\u001B[49m\u001B[38;5;124;43m'\u001B[39;49m\u001B[38;5;124;43m31109001400\u001B[39;49m\u001B[38;5;124;43m'\u001B[39;49m\u001B[43m]\u001B[49m\n",
      "\u001B[0;31mKeyError\u001B[0m: '31109001400'"
     ]
    }
   ],
   "source": [
    "# these features aren't neighbors, so the weight is not in the dict. will return an error\n",
    "w_queen['31109001700']['31109001400']\n"
   ]
  },
  {
   "cell_type": "code",
   "execution_count": null,
   "metadata": {},
   "outputs": [],
   "source": [
    "# ask the dict for neighbors of a particular feature\n",
    "w_queen.neighbors['31109001700']\n",
    "# looks similar to the dict, but is a list"
   ]
  },
  {
   "cell_type": "code",
   "execution_count": null,
   "metadata": {},
   "outputs": [],
   "source": [
    "# weights\n",
    "w_queen.weights['31109001700']"
   ]
  },
  {
   "cell_type": "code",
   "execution_count": null,
   "metadata": {},
   "outputs": [],
   "source": [
    "# how many neighbors does our tract have?\n",
    "w_queen.cardinalities['31109001700']"
   ]
  },
  {
   "cell_type": "code",
   "execution_count": null,
   "metadata": {},
   "outputs": [],
   "source": [
    "# cardinalities (or the number of neighbors) of ALL tracts\n",
    "queen_card = pd.Series(w_queen.cardinalities)\n",
    "queen_card.head()"
   ]
  },
  {
   "cell_type": "code",
   "execution_count": null,
   "metadata": {},
   "outputs": [],
   "source": [
    "# quick histogram of neighbors in dataset\n",
    "sns.distplot(queen_card, bins=10)"
   ]
  },
  {
   "cell_type": "code",
   "execution_count": null,
   "metadata": {},
   "outputs": [],
   "source": [
    "# stats\n",
    "\n",
    "# Number of observations\n",
    "w_queen.n"
   ]
  },
  {
   "cell_type": "code",
   "execution_count": null,
   "metadata": {},
   "outputs": [],
   "source": [
    "# Average number of neighbors\n",
    "w_queen.mean_neighbors #(how would you round this to 2 decimal places?)"
   ]
  },
  {
   "cell_type": "code",
   "execution_count": null,
   "metadata": {},
   "outputs": [],
   "source": [
    "# Min number of neighbors\n",
    "w_queen.min_neighbors"
   ]
  },
  {
   "cell_type": "code",
   "execution_count": null,
   "metadata": {},
   "outputs": [],
   "source": [
    "# Max number of neighbors\n",
    "w_queen.max_neighbors"
   ]
  },
  {
   "cell_type": "code",
   "execution_count": null,
   "metadata": {},
   "outputs": [],
   "source": [
    "# Islands (observations disconnected)\n",
    "w_queen.islands"
   ]
  },
  {
   "cell_type": "code",
   "execution_count": null,
   "metadata": {},
   "outputs": [],
   "source": [
    "# IDs in order (first 5)\n",
    "w_queen.id_order[:5]"
   ]
  },
  {
   "cell_type": "code",
   "execution_count": null,
   "metadata": {},
   "outputs": [],
   "source": [
    "# plot, style, zoom in\n",
    "\n",
    "# Setup figure\n",
    "f, ax = plt.subplots(1, figsize=(6, 6))\n",
    "\n",
    "# Plot base layer of polygons\n",
    "db.plot(ax=ax, facecolor='k', linewidth=0.1)\n",
    "\n",
    "# Select focal polygon geometry\n",
    "focus = db.loc[['31109001700'], ['geometry']]\n",
    "\n",
    "# Plot focal polygon\n",
    "focus.plot(facecolor='red', alpha=1, linewidth=0, ax=ax)\n",
    "\n",
    "# Plot neighbors\n",
    "neis = db.loc[w_queen['31109001700'].keys(), :]\n",
    "neis.plot(ax=ax, facecolor='lime', linewidth=0)\n",
    "\n",
    "# Title\n",
    "f.suptitle(\"Queen neighbors of 31109001700\")\n",
    "\n",
    "# Style, zoom, and display on screen\n",
    "ax.set_ylim(4515000, 4523000)\n",
    "ax.set_xlim(690000, 700000)\n",
    "plt.show()"
   ]
  },
  {
   "cell_type": "markdown",
   "source": [
    "## Rook contiguity"
   ],
   "metadata": {
    "collapsed": false
   }
  },
  {
   "cell_type": "code",
   "execution_count": null,
   "outputs": [],
   "source": [
    "w_rook = weights.Rook.from_dataframe(db, idVariable=\"GEOID10\")\n",
    "w_rook"
   ],
   "metadata": {
    "collapsed": false
   }
  },
  {
   "cell_type": "code",
   "execution_count": null,
   "metadata": {},
   "outputs": [],
   "source": [
    "# Let's look at the neighbors for a random tract\n",
    "w_rook['31109001700']\n",
    "# output is a dict"
   ]
  },
  {
   "cell_type": "code",
   "execution_count": null,
   "metadata": {},
   "outputs": [],
   "source": [
    "# rook cardinalities of ALL tracts\n",
    "rook_card = pd.Series(w_rook.cardinalities)\n",
    "rook_card.head()"
   ]
  },
  {
   "cell_type": "code",
   "execution_count": null,
   "metadata": {},
   "outputs": [],
   "source": [
    "# quick histogram of neighbors in dataset\n",
    "sns.distplot(rook_card, bins=10)"
   ]
  },
  {
   "cell_type": "code",
   "execution_count": null,
   "metadata": {},
   "outputs": [],
   "source": [
    "# Average number of neighbors\n",
    "w_rook.mean_neighbors"
   ]
  },
  {
   "cell_type": "code",
   "execution_count": null,
   "metadata": {},
   "outputs": [],
   "source": [
    "# can compare the two averages\n",
    "w_queen.mean_neighbors - w_rook.mean_neighbors\n",
    "## What does this mean for the neighborhoods? Which formalization of W has more neighbors (on average)?"
   ]
  },
  {
   "cell_type": "code",
   "execution_count": null,
   "metadata": {},
   "outputs": [],
   "source": [
    "# plot, style, zoom in\n",
    "\n",
    "# Setup figure\n",
    "f, ax = plt.subplots(1, figsize=(6, 6))\n",
    "\n",
    "# Plot base layer of polygons\n",
    "db.plot(ax=ax, facecolor='k', linewidth=0.1)\n",
    "\n",
    "# Select focal polygon geometry\n",
    "focus = db.loc[['31109001700'], ['geometry']]\n",
    "\n",
    "# Plot focal polygon\n",
    "focus.plot(facecolor='red', alpha=1, linewidth=0, ax=ax)\n",
    "\n",
    "# Plot neighbors\n",
    "neis = db.loc[w_rook['31109001700'].keys(), :]\n",
    "neis.plot(ax=ax, facecolor='lime', linewidth=0)\n",
    "\n",
    "# Title\n",
    "f.suptitle(\"Rook neighbors of 31109001700\")\n",
    "\n",
    "# Style, zoom, and display on screen\n",
    "ax.set_ylim(4515000, 4523000)\n",
    "ax.set_xlim(690000, 700000)\n",
    "plt.show()\n",
    "# looks a bit different than the queen contiguity"
   ]
  },
  {
   "cell_type": "code",
   "execution_count": null,
   "metadata": {},
   "outputs": [],
   "source": [
    "# DISTANCE-based neighborhoods\n",
    "\n",
    "### if the distance-based measures throw errors, you may need to update libpysal in your environment\n",
    "### command would be \"pip install libpysal -U\" (without quotes)"
   ]
  },
  {
   "cell_type": "code",
   "execution_count": null,
   "outputs": [],
   "source": [
    "# k nearest-neighbors\n",
    "\n",
    "knn5 = weights.distance.KNN.from_dataframe(db, k = 5)\n",
    "\n",
    "knn5"
   ],
   "metadata": {
    "collapsed": false
   }
  },
  {
   "cell_type": "code",
   "execution_count": null,
   "metadata": {},
   "outputs": [],
   "source": [
    "knn5['31109001700']"
   ]
  },
  {
   "cell_type": "code",
   "execution_count": null,
   "metadata": {},
   "outputs": [],
   "source": [
    "# distance band\n",
    "# binary output: 1 for inside the radius, 0 for outside\n",
    "\n",
    "w_dist1kmB = weights.DistanceBand.from_dataframe(db, 1000)"
   ]
  },
  {
   "cell_type": "code",
   "execution_count": null,
   "metadata": {},
   "outputs": [],
   "source": [
    "w_dist1kmB['31109001700']"
   ]
  },
  {
   "cell_type": "code",
   "execution_count": null,
   "metadata": {},
   "outputs": [],
   "source": [
    "# inverse distance weighted\n",
    "w_dist1kmC = weights.DistanceBand.from_dataframe(db, 1000, binary=False) # note binary flag"
   ]
  },
  {
   "cell_type": "code",
   "execution_count": null,
   "metadata": {},
   "outputs": [],
   "source": [
    "w_dist1kmC['31109001700']"
   ]
  },
  {
   "cell_type": "code",
   "execution_count": null,
   "metadata": {},
   "outputs": [],
   "source": [
    "### Transformations\n",
    "\n",
    "w_queen.transform \n",
    "# output of 'O' means \"original\""
   ]
  },
  {
   "cell_type": "code",
   "execution_count": null,
   "metadata": {},
   "outputs": [],
   "source": [
    "w_queen['31109001700'] # look at what we did originally"
   ]
  },
  {
   "cell_type": "code",
   "execution_count": null,
   "metadata": {},
   "outputs": [],
   "source": [
    "w_queen.transform  = 'R' # Row-standardize it"
   ]
  },
  {
   "cell_type": "code",
   "execution_count": null,
   "metadata": {},
   "outputs": [],
   "source": [
    "w_queen['31109001700'] # now check"
   ]
  },
  {
   "cell_type": "code",
   "execution_count": null,
   "metadata": {},
   "outputs": [],
   "source": [
    "# verify they sum to 1\n",
    "pd.Series(w_queen['31109001700']).sum()"
   ]
  },
  {
   "cell_type": "code",
   "execution_count": null,
   "metadata": {},
   "outputs": [],
   "source": [
    "# Compute spatial lag of `ALAND10`\n",
    "w_queen_score = weights.lag_spatial(w_queen, db[\"ALAND10\"])\n",
    "# Print the first five elements\n",
    "w_queen_score[:5]"
   ]
  },
  {
   "cell_type": "code",
   "execution_count": null,
   "metadata": {},
   "outputs": [],
   "source": [
    "# add the lagged variable to the data frame\n",
    "db['w_area'] = w_queen_score\n"
   ]
  },
  {
   "cell_type": "code",
   "execution_count": null,
   "metadata": {
    "scrolled": false
   },
   "outputs": [],
   "source": [
    "# scatter of area and lagged area\n",
    "\n",
    "# Set up the figure and axis\n",
    "f, ax = plt.subplots(1, figsize=(9, 9))\n",
    "# Plot values\n",
    "sns.regplot(x=\"ALAND10\", y=\"w_area\", data=db, ci=None)\n",
    "# Display\n",
    "plt.show()"
   ]
  },
  {
   "cell_type": "code",
   "execution_count": null,
   "metadata": {},
   "outputs": [],
   "source": [
    "# Moran plot\n",
    "\n",
    "## Walk through this line-by-line with your partner\n",
    "\n",
    "\n",
    "# Standardize the area\n",
    "std_db = (db['ALAND10'] - db['ALAND10'].mean()) / db['ALAND10'].std()\n",
    "# Compute the spatial lag of the standardized version and save is as a \n",
    "# Series indexed as the original variable\n",
    "std_w_db = pd.Series(weights.lag_spatial(w_queen, std_db), index=std_db.index)\n",
    "# Setup the figure and axis\n",
    "f, ax = plt.subplots(1, figsize=(9, 9))\n",
    "# Plot values\n",
    "sns.regplot(x=std_db, y=std_w_db, ci=None)\n",
    "# Add vertical and horizontal lines\n",
    "plt.axvline(0, c='k', alpha=0.5)\n",
    "plt.axhline(0, c='k', alpha=0.5)\n",
    "# Display\n",
    "plt.show()"
   ]
  },
  {
   "cell_type": "code",
   "execution_count": null,
   "outputs": [],
   "source": [],
   "metadata": {
    "collapsed": false
   }
  },
  {
   "cell_type": "code",
   "execution_count": null,
   "outputs": [],
   "source": [],
   "metadata": {
    "collapsed": false
   }
  }
 ],
 "metadata": {
  "kernelspec": {
   "display_name": "Python 3",
   "language": "python",
   "name": "python3"
  },
  "language_info": {
   "codemirror_mode": {
    "name": "ipython",
    "version": 3
   },
   "file_extension": ".py",
   "mimetype": "text/x-python",
   "name": "python",
   "nbconvert_exporter": "python",
   "pygments_lexer": "ipython3",
   "version": "3.7.4"
  }
 },
 "nbformat": 4,
 "nbformat_minor": 2
}
