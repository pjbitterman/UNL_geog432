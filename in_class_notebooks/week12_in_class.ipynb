{
 "cells": [
  {
   "cell_type": "code",
   "execution_count": 1,
   "metadata": {
    "ExecuteTime": {
     "end_time": "2023-11-02T14:18:29.668110Z",
     "start_time": "2023-11-02T14:18:29.418116Z"
    }
   },
   "outputs": [],
   "source": [
    "%matplotlib inline\n",
    "\n",
    "import seaborn as sns\n",
    "import pandas as pd\n",
    "from libpysal import weights\n",
    "from libpysal.io import open as psopen\n",
    "import geopandas as gpd\n",
    "import numpy as np\n",
    "import matplotlib.pyplot as plt"
   ]
  },
  {
   "cell_type": "code",
   "execution_count": 2,
   "metadata": {
    "ExecuteTime": {
     "end_time": "2023-11-02T14:18:33.723465Z",
     "start_time": "2023-11-02T14:18:33.580571Z"
    }
   },
   "outputs": [
    {
     "name": "stdout",
     "output_type": "stream",
     "text": [
      "<class 'geopandas.geodataframe.GeoDataFrame'>\n",
      "Index: 74 entries, 31109001302 to 31109001200\n",
      "Data columns (total 17 columns):\n",
      " #   Column      Non-Null Count  Dtype   \n",
      "---  ------      --------------  -----   \n",
      " 0   OBJECTID    74 non-null     int64   \n",
      " 1   STATEFP10   74 non-null     object  \n",
      " 2   COUNTYFP10  74 non-null     object  \n",
      " 3   TRACTCE10   74 non-null     object  \n",
      " 4   GEOID10     74 non-null     object  \n",
      " 5   NAME10      74 non-null     object  \n",
      " 6   NAMELSAD10  74 non-null     object  \n",
      " 7   MTFCC10     74 non-null     object  \n",
      " 8   FUNCSTAT10  74 non-null     object  \n",
      " 9   ALAND10     74 non-null     int64   \n",
      " 10  AWATER10    74 non-null     int64   \n",
      " 11  INTPTLAT10  74 non-null     object  \n",
      " 12  INTPTLON10  74 non-null     object  \n",
      " 13  GDB_GEOMAT  0 non-null      float64 \n",
      " 14  Shape__Are  74 non-null     float64 \n",
      " 15  Shape__Len  74 non-null     float64 \n",
      " 16  geometry    74 non-null     geometry\n",
      "dtypes: float64(3), geometry(1), int64(3), object(10)\n",
      "memory usage: 12.5+ KB\n"
     ]
    }
   ],
   "source": [
    "# read data\n",
    "db = gpd.read_file(\"./week12data/tracts_2010_lc.shp\")\n",
    "\n",
    "# Index table on the GEOID\n",
    "db = db.set_index(\"GEOID10\", drop=False)\n",
    "\n",
    "# Display summary\n",
    "db.info()"
   ]
  },
  {
   "cell_type": "code",
   "execution_count": 3,
   "metadata": {
    "ExecuteTime": {
     "end_time": "2023-11-02T14:18:34.865780Z",
     "start_time": "2023-11-02T14:18:34.854232Z"
    }
   },
   "outputs": [
    {
     "data": {
      "text/plain": "<Geographic 2D CRS: EPSG:4326>\nName: WGS 84\nAxis Info [ellipsoidal]:\n- Lat[north]: Geodetic latitude (degree)\n- Lon[east]: Geodetic longitude (degree)\nArea of Use:\n- name: World.\n- bounds: (-180.0, -90.0, 180.0, 90.0)\nDatum: World Geodetic System 1984 ensemble\n- Ellipsoid: WGS 84\n- Prime Meridian: Greenwich"
     },
     "execution_count": 3,
     "metadata": {},
     "output_type": "execute_result"
    }
   ],
   "source": [
    "db.crs\n",
    "#wgs84"
   ]
  },
  {
   "cell_type": "code",
   "execution_count": 4,
   "metadata": {
    "ExecuteTime": {
     "end_time": "2023-11-02T14:18:36.680847Z",
     "start_time": "2023-11-02T14:18:36.350825Z"
    }
   },
   "outputs": [],
   "source": [
    "#let's project it (in place)\n",
    "db = db.to_crs(epsg=26914) # EPSG for NAD84 UTM 14N"
   ]
  },
  {
   "cell_type": "code",
   "execution_count": 9,
   "metadata": {},
   "outputs": [
    {
     "data": {
      "text/plain": [
       "<libpysal.weights.contiguity.Queen at 0x7f97c036d3d0>"
      ]
     },
     "execution_count": 9,
     "metadata": {},
     "output_type": "execute_result"
    }
   ],
   "source": [
    "# Weights matrix under queen contiguity\n",
    "w_queen = weights.Queen.from_dataframe(db, idVariable=\"GEOID10\")\n",
    "w_queen"
   ]
  },
  {
   "cell_type": "code",
   "execution_count": 44,
   "metadata": {},
   "outputs": [
    {
     "data": {
      "text/html": [
       "<div>\n",
       "<style scoped>\n",
       "    .dataframe tbody tr th:only-of-type {\n",
       "        vertical-align: middle;\n",
       "    }\n",
       "\n",
       "    .dataframe tbody tr th {\n",
       "        vertical-align: top;\n",
       "    }\n",
       "\n",
       "    .dataframe thead th {\n",
       "        text-align: right;\n",
       "    }\n",
       "</style>\n",
       "<table border=\"1\" class=\"dataframe\">\n",
       "  <thead>\n",
       "    <tr style=\"text-align: right;\">\n",
       "      <th></th>\n",
       "      <th>OBJECTID</th>\n",
       "      <th>STATEFP10</th>\n",
       "      <th>COUNTYFP10</th>\n",
       "      <th>TRACTCE10</th>\n",
       "      <th>GEOID10</th>\n",
       "      <th>NAME10</th>\n",
       "      <th>NAMELSAD10</th>\n",
       "      <th>MTFCC10</th>\n",
       "      <th>FUNCSTAT10</th>\n",
       "      <th>ALAND10</th>\n",
       "      <th>AWATER10</th>\n",
       "      <th>INTPTLAT10</th>\n",
       "      <th>INTPTLON10</th>\n",
       "      <th>GDB_GEOMAT</th>\n",
       "      <th>Shape__Are</th>\n",
       "      <th>Shape__Len</th>\n",
       "      <th>geometry</th>\n",
       "    </tr>\n",
       "    <tr>\n",
       "      <th>GEOID10</th>\n",
       "      <th></th>\n",
       "      <th></th>\n",
       "      <th></th>\n",
       "      <th></th>\n",
       "      <th></th>\n",
       "      <th></th>\n",
       "      <th></th>\n",
       "      <th></th>\n",
       "      <th></th>\n",
       "      <th></th>\n",
       "      <th></th>\n",
       "      <th></th>\n",
       "      <th></th>\n",
       "      <th></th>\n",
       "      <th></th>\n",
       "      <th></th>\n",
       "      <th></th>\n",
       "    </tr>\n",
       "  </thead>\n",
       "  <tbody>\n",
       "    <tr>\n",
       "      <td>31109001302</td>\n",
       "      <td>375</td>\n",
       "      <td>31</td>\n",
       "      <td>109</td>\n",
       "      <td>001302</td>\n",
       "      <td>31109001302</td>\n",
       "      <td>13.02</td>\n",
       "      <td>Census Tract 13.02</td>\n",
       "      <td>G5020</td>\n",
       "      <td>S</td>\n",
       "      <td>2176814</td>\n",
       "      <td>0</td>\n",
       "      <td>+40.7927167</td>\n",
       "      <td>-096.6340321</td>\n",
       "      <td>None</td>\n",
       "      <td>2.341853e+07</td>\n",
       "      <td>20361.716815</td>\n",
       "      <td>POLYGON ((699870.923 4519138.802, 700042.809 4...</td>\n",
       "    </tr>\n",
       "    <tr>\n",
       "      <td>31109001400</td>\n",
       "      <td>376</td>\n",
       "      <td>31</td>\n",
       "      <td>109</td>\n",
       "      <td>001400</td>\n",
       "      <td>31109001400</td>\n",
       "      <td>14</td>\n",
       "      <td>Census Tract 14</td>\n",
       "      <td>G5020</td>\n",
       "      <td>S</td>\n",
       "      <td>2726305</td>\n",
       "      <td>0</td>\n",
       "      <td>+40.8064054</td>\n",
       "      <td>-096.6532808</td>\n",
       "      <td>None</td>\n",
       "      <td>2.932990e+07</td>\n",
       "      <td>21984.171116</td>\n",
       "      <td>POLYGON ((698131.027 4519091.635, 698037.039 4...</td>\n",
       "    </tr>\n",
       "    <tr>\n",
       "      <td>31109001500</td>\n",
       "      <td>377</td>\n",
       "      <td>31</td>\n",
       "      <td>109</td>\n",
       "      <td>001500</td>\n",
       "      <td>31109001500</td>\n",
       "      <td>15</td>\n",
       "      <td>Census Tract 15</td>\n",
       "      <td>G5020</td>\n",
       "      <td>S</td>\n",
       "      <td>2807893</td>\n",
       "      <td>0</td>\n",
       "      <td>+40.7932287</td>\n",
       "      <td>-096.6560502</td>\n",
       "      <td>None</td>\n",
       "      <td>3.020778e+07</td>\n",
       "      <td>25712.716123</td>\n",
       "      <td>POLYGON ((696418.208 4518798.073, 696414.116 4...</td>\n",
       "    </tr>\n",
       "    <tr>\n",
       "      <td>31109001600</td>\n",
       "      <td>378</td>\n",
       "      <td>31</td>\n",
       "      <td>109</td>\n",
       "      <td>001600</td>\n",
       "      <td>31109001600</td>\n",
       "      <td>16</td>\n",
       "      <td>Census Tract 16</td>\n",
       "      <td>G5020</td>\n",
       "      <td>S</td>\n",
       "      <td>2572821</td>\n",
       "      <td>0</td>\n",
       "      <td>+40.8064997</td>\n",
       "      <td>-096.6728453</td>\n",
       "      <td>None</td>\n",
       "      <td>2.767876e+07</td>\n",
       "      <td>21877.890524</td>\n",
       "      <td>POLYGON ((695874.101 4520653.849, 695955.919 4...</td>\n",
       "    </tr>\n",
       "    <tr>\n",
       "      <td>31109001700</td>\n",
       "      <td>379</td>\n",
       "      <td>31</td>\n",
       "      <td>109</td>\n",
       "      <td>001700</td>\n",
       "      <td>31109001700</td>\n",
       "      <td>17</td>\n",
       "      <td>Census Tract 17</td>\n",
       "      <td>G5020</td>\n",
       "      <td>S</td>\n",
       "      <td>1263366</td>\n",
       "      <td>0</td>\n",
       "      <td>+40.8031881</td>\n",
       "      <td>-096.6894790</td>\n",
       "      <td>None</td>\n",
       "      <td>1.359143e+07</td>\n",
       "      <td>17301.104765</td>\n",
       "      <td>POLYGON ((695260.378 4519017.706, 695165.541 4...</td>\n",
       "    </tr>\n",
       "  </tbody>\n",
       "</table>\n",
       "</div>"
      ],
      "text/plain": [
       "             OBJECTID STATEFP10 COUNTYFP10 TRACTCE10      GEOID10 NAME10  \\\n",
       "GEOID10                                                                    \n",
       "31109001302       375        31        109    001302  31109001302  13.02   \n",
       "31109001400       376        31        109    001400  31109001400     14   \n",
       "31109001500       377        31        109    001500  31109001500     15   \n",
       "31109001600       378        31        109    001600  31109001600     16   \n",
       "31109001700       379        31        109    001700  31109001700     17   \n",
       "\n",
       "                     NAMELSAD10 MTFCC10 FUNCSTAT10  ALAND10  AWATER10  \\\n",
       "GEOID10                                                                 \n",
       "31109001302  Census Tract 13.02   G5020          S  2176814         0   \n",
       "31109001400     Census Tract 14   G5020          S  2726305         0   \n",
       "31109001500     Census Tract 15   G5020          S  2807893         0   \n",
       "31109001600     Census Tract 16   G5020          S  2572821         0   \n",
       "31109001700     Census Tract 17   G5020          S  1263366         0   \n",
       "\n",
       "              INTPTLAT10    INTPTLON10 GDB_GEOMAT    Shape__Are    Shape__Len  \\\n",
       "GEOID10                                                                         \n",
       "31109001302  +40.7927167  -096.6340321       None  2.341853e+07  20361.716815   \n",
       "31109001400  +40.8064054  -096.6532808       None  2.932990e+07  21984.171116   \n",
       "31109001500  +40.7932287  -096.6560502       None  3.020778e+07  25712.716123   \n",
       "31109001600  +40.8064997  -096.6728453       None  2.767876e+07  21877.890524   \n",
       "31109001700  +40.8031881  -096.6894790       None  1.359143e+07  17301.104765   \n",
       "\n",
       "                                                      geometry  \n",
       "GEOID10                                                         \n",
       "31109001302  POLYGON ((699870.923 4519138.802, 700042.809 4...  \n",
       "31109001400  POLYGON ((698131.027 4519091.635, 698037.039 4...  \n",
       "31109001500  POLYGON ((696418.208 4518798.073, 696414.116 4...  \n",
       "31109001600  POLYGON ((695874.101 4520653.849, 695955.919 4...  \n",
       "31109001700  POLYGON ((695260.378 4519017.706, 695165.541 4...  "
      ]
     },
     "execution_count": 44,
     "metadata": {},
     "output_type": "execute_result"
    }
   ],
   "source": [
    "db.head()"
   ]
  },
  {
   "cell_type": "code",
   "execution_count": 46,
   "metadata": {},
   "outputs": [
    {
     "data": {
      "text/plain": [
       "{'31109001600': 1.0,\n",
       " '31109002200': 1.0,\n",
       " '31109001900': 1.0,\n",
       " '31109001500': 1.0,\n",
       " '31109002001': 1.0,\n",
       " '31109002500': 1.0,\n",
       " '31109001800': 1.0,\n",
       " '31109002300': 1.0}"
      ]
     },
     "execution_count": 46,
     "metadata": {},
     "output_type": "execute_result"
    }
   ],
   "source": [
    "# Let's look at the neighbors for a random tract\n",
    "w_queen['31109001700']\n",
    "# output is a dict"
   ]
  },
  {
   "cell_type": "code",
   "execution_count": 47,
   "metadata": {},
   "outputs": [
    {
     "data": {
      "text/plain": [
       "1.0"
      ]
     },
     "execution_count": 47,
     "metadata": {},
     "output_type": "execute_result"
    }
   ],
   "source": [
    "# Pairwise comparison\n",
    "w_queen['31109001700']['31109002500']"
   ]
  },
  {
   "cell_type": "code",
   "execution_count": 48,
   "metadata": {},
   "outputs": [
    {
     "ename": "KeyError",
     "evalue": "'31109001400'",
     "output_type": "error",
     "traceback": [
      "\u001B[0;31m---------------------------------------------------------------------------\u001B[0m",
      "\u001B[0;31mKeyError\u001B[0m                                  Traceback (most recent call last)",
      "\u001B[0;32m<ipython-input-48-a248236f44fd>\u001B[0m in \u001B[0;36m<module>\u001B[0;34m\u001B[0m\n\u001B[1;32m      1\u001B[0m \u001B[0;31m# not neighbors, not in the dict, will return an error\u001B[0m\u001B[0;34m\u001B[0m\u001B[0;34m\u001B[0m\u001B[0;34m\u001B[0m\u001B[0m\n\u001B[0;32m----> 2\u001B[0;31m \u001B[0mw_queen\u001B[0m\u001B[0;34m[\u001B[0m\u001B[0;34m'31109001700'\u001B[0m\u001B[0;34m]\u001B[0m\u001B[0;34m[\u001B[0m\u001B[0;34m'31109001400'\u001B[0m\u001B[0;34m]\u001B[0m\u001B[0;34m\u001B[0m\u001B[0;34m\u001B[0m\u001B[0m\n\u001B[0m",
      "\u001B[0;31mKeyError\u001B[0m: '31109001400'"
     ]
    }
   ],
   "source": [
    "# not neighbors, not in the dict, will return an error\n",
    "w_queen['31109001700']['31109001400']\n"
   ]
  },
  {
   "cell_type": "code",
   "execution_count": 49,
   "metadata": {},
   "outputs": [
    {
     "data": {
      "text/plain": [
       "['31109001600',\n",
       " '31109002200',\n",
       " '31109001900',\n",
       " '31109001500',\n",
       " '31109002001',\n",
       " '31109002500',\n",
       " '31109001800',\n",
       " '31109002300']"
      ]
     },
     "execution_count": 49,
     "metadata": {},
     "output_type": "execute_result"
    }
   ],
   "source": [
    "# ask the dict for neighbors\n",
    "w_queen.neighbors['31109001700']\n",
    "# looks similar to the dict, but is a list"
   ]
  },
  {
   "cell_type": "code",
   "execution_count": 50,
   "metadata": {},
   "outputs": [
    {
     "data": {
      "text/plain": [
       "[1.0, 1.0, 1.0, 1.0, 1.0, 1.0, 1.0, 1.0]"
      ]
     },
     "execution_count": 50,
     "metadata": {},
     "output_type": "execute_result"
    }
   ],
   "source": [
    "# weights\n",
    "w_queen.weights['31109001700']"
   ]
  },
  {
   "cell_type": "code",
   "execution_count": 51,
   "metadata": {},
   "outputs": [
    {
     "data": {
      "text/plain": [
       "8"
      ]
     },
     "execution_count": 51,
     "metadata": {},
     "output_type": "execute_result"
    }
   ],
   "source": [
    "# how many neighbors does our tract have?\n",
    "w_queen.cardinalities['31109001700']"
   ]
  },
  {
   "cell_type": "code",
   "execution_count": 52,
   "metadata": {},
   "outputs": [
    {
     "data": {
      "text/plain": [
       "31109000100    6\n",
       "31109000201    4\n",
       "31109000202    5\n",
       "31109000300    6\n",
       "31109000400    8\n",
       "dtype: int64"
      ]
     },
     "execution_count": 52,
     "metadata": {},
     "output_type": "execute_result"
    }
   ],
   "source": [
    "# cardinalities of ALL tracts\n",
    "queen_card = pd.Series(w_queen.cardinalities)\n",
    "queen_card.head()"
   ]
  },
  {
   "cell_type": "code",
   "execution_count": 24,
   "metadata": {},
   "outputs": [
    {
     "data": {
      "text/plain": [
       "<matplotlib.axes._subplots.AxesSubplot at 0x7f97a28e9a50>"
      ]
     },
     "execution_count": 24,
     "metadata": {},
     "output_type": "execute_result"
    },
    {
     "data": {
      "image/png": "[encoded data removed]",
      "text/plain": [
       "<Figure size 432x288 with 1 Axes>"
      ]
     },
     "metadata": {
      "needs_background": "light"
     },
     "output_type": "display_data"
    }
   ],
   "source": [
    "# quick histogram of neighbors in dataset\n",
    "sns.distplot(queen_card, bins=10)"
   ]
  },
  {
   "cell_type": "code",
   "execution_count": 53,
   "metadata": {},
   "outputs": [
    {
     "data": {
      "text/plain": [
       "74"
      ]
     },
     "execution_count": 53,
     "metadata": {},
     "output_type": "execute_result"
    }
   ],
   "source": [
    "# stats\n",
    "\n",
    "# Number of observations\n",
    "w_queen.n"
   ]
  },
  {
   "cell_type": "code",
   "execution_count": 54,
   "metadata": {},
   "outputs": [
    {
     "data": {
      "text/plain": [
       "6.324324324324325"
      ]
     },
     "execution_count": 54,
     "metadata": {},
     "output_type": "execute_result"
    }
   ],
   "source": [
    "# Average number of neighbors\n",
    "w_queen.mean_neighbors"
   ]
  },
  {
   "cell_type": "code",
   "execution_count": 55,
   "metadata": {},
   "outputs": [
    {
     "data": {
      "text/plain": [
       "2"
      ]
     },
     "execution_count": 55,
     "metadata": {},
     "output_type": "execute_result"
    }
   ],
   "source": [
    "# Min number of neighbors\n",
    "w_queen.min_neighbors"
   ]
  },
  {
   "cell_type": "code",
   "execution_count": 56,
   "metadata": {},
   "outputs": [
    {
     "data": {
      "text/plain": [
       "13"
      ]
     },
     "execution_count": 56,
     "metadata": {},
     "output_type": "execute_result"
    }
   ],
   "source": [
    "# Max number of neighbors\n",
    "w_queen.max_neighbors"
   ]
  },
  {
   "cell_type": "code",
   "execution_count": 57,
   "metadata": {},
   "outputs": [
    {
     "data": {
      "text/plain": [
       "[]"
      ]
     },
     "execution_count": 57,
     "metadata": {},
     "output_type": "execute_result"
    }
   ],
   "source": [
    "# Islands (observations disconnected)\n",
    "w_queen.islands"
   ]
  },
  {
   "cell_type": "code",
   "execution_count": 58,
   "metadata": {},
   "outputs": [
    {
     "data": {
      "text/plain": [
       "['31109000100', '31109000201', '31109000202', '31109000300', '31109000400']"
      ]
     },
     "execution_count": 58,
     "metadata": {},
     "output_type": "execute_result"
    }
   ],
   "source": [
    "# IDs in order (first 5)\n",
    "w_queen.id_order[:5]"
   ]
  },
  {
   "cell_type": "code",
   "execution_count": 63,
   "metadata": {},
   "outputs": [
    {
     "data": {
      "image/png": "[encoded data removed]",
      "text/plain": [
       "<Figure size 432x432 with 1 Axes>"
      ]
     },
     "metadata": {
      "needs_background": "light"
     },
     "output_type": "display_data"
    }
   ],
   "source": [
    "# plot, style, zoom in\n",
    "\n",
    "# Setup figure\n",
    "f, ax = plt.subplots(1, figsize=(6, 6))\n",
    "\n",
    "# Plot base layer of polygons\n",
    "db.plot(ax=ax, facecolor='k', linewidth=0.1)\n",
    "\n",
    "# Select focal polygon geometry\n",
    "focus = db.loc[['31109001700'], ['geometry']]\n",
    "\n",
    "# Plot focal polygon\n",
    "focus.plot(facecolor='red', alpha=1, linewidth=0, ax=ax)\n",
    "\n",
    "# Plot neighbors\n",
    "neis = db.loc[w_queen['31109001700'], :]\n",
    "neis.plot(ax=ax, facecolor='lime', linewidth=0)\n",
    "\n",
    "# Title\n",
    "f.suptitle(\"Queen neighbors of 31109001700\")\n",
    "\n",
    "# Style, zoom, and display on screen\n",
    "ax.set_ylim(4515000, 4523000)\n",
    "ax.set_xlim(690000, 700000)\n",
    "plt.show()"
   ]
  },
  {
   "cell_type": "code",
   "execution_count": 66,
   "metadata": {},
   "outputs": [
    {
     "data": {
      "text/plain": [
       "<libpysal.weights.contiguity.Rook at 0x7f9790bde2d0>"
      ]
     },
     "execution_count": 66,
     "metadata": {},
     "output_type": "execute_result"
    }
   ],
   "source": [
    "w_rook = weights.Rook.from_dataframe(db, idVariable=\"GEOID10\")\n",
    "w_rook"
   ]
  },
  {
   "cell_type": "code",
   "execution_count": 67,
   "metadata": {},
   "outputs": [
    {
     "data": {
      "text/plain": [
       "{'31109001600': 1.0,\n",
       " '31109002200': 1.0,\n",
       " '31109002300': 1.0,\n",
       " '31109001800': 1.0,\n",
       " '31109002001': 1.0,\n",
       " '31109002500': 1.0,\n",
       " '31109001500': 1.0}"
      ]
     },
     "execution_count": 67,
     "metadata": {},
     "output_type": "execute_result"
    }
   ],
   "source": [
    "# Let's look at the neighbors for a random tract\n",
    "w_rook['31109001700']\n",
    "# output is a dict"
   ]
  },
  {
   "cell_type": "code",
   "execution_count": 68,
   "metadata": {},
   "outputs": [
    {
     "data": {
      "text/plain": [
       "31109000100    6\n",
       "31109000201    4\n",
       "31109000202    4\n",
       "31109000300    5\n",
       "31109000400    7\n",
       "dtype: int64"
      ]
     },
     "execution_count": 68,
     "metadata": {},
     "output_type": "execute_result"
    }
   ],
   "source": [
    "# rook cardinalities of ALL tracts\n",
    "rook_card = pd.Series(w_rook.cardinalities)\n",
    "rook_card.head()"
   ]
  },
  {
   "cell_type": "code",
   "execution_count": 69,
   "metadata": {},
   "outputs": [
    {
     "data": {
      "text/plain": [
       "<matplotlib.axes._subplots.AxesSubplot at 0x7f9790aa98d0>"
      ]
     },
     "execution_count": 69,
     "metadata": {},
     "output_type": "execute_result"
    },
    {
     "data": {
      "image/png": "[encoded data removed]",
      "text/plain": [
       "<Figure size 432x288 with 1 Axes>"
      ]
     },
     "metadata": {
      "needs_background": "light"
     },
     "output_type": "display_data"
    }
   ],
   "source": [
    "# quick histogram of neighbors in dataset\n",
    "sns.distplot(rook_card, bins=10)"
   ]
  },
  {
   "cell_type": "code",
   "execution_count": 70,
   "metadata": {},
   "outputs": [
    {
     "data": {
      "text/plain": [
       "5.1891891891891895"
      ]
     },
     "execution_count": 70,
     "metadata": {},
     "output_type": "execute_result"
    }
   ],
   "source": [
    "# Average number of neighbors\n",
    "w_rook.mean_neighbors"
   ]
  },
  {
   "cell_type": "code",
   "execution_count": 72,
   "metadata": {},
   "outputs": [
    {
     "data": {
      "text/plain": [
       "1.135135135135135"
      ]
     },
     "execution_count": 72,
     "metadata": {},
     "output_type": "execute_result"
    }
   ],
   "source": [
    "# can compare the two averages\n",
    "w_queen.mean_neighbors - w_rook.mean_neighbors"
   ]
  },
  {
   "cell_type": "code",
   "execution_count": 73,
   "metadata": {},
   "outputs": [
    {
     "data": {
      "image/png": "[encoded data removed]",
      "text/plain": [
       "<Figure size 432x432 with 1 Axes>"
      ]
     },
     "metadata": {
      "needs_background": "light"
     },
     "output_type": "display_data"
    }
   ],
   "source": [
    "# plot, style, zoom in\n",
    "\n",
    "# Setup figure\n",
    "f, ax = plt.subplots(1, figsize=(6, 6))\n",
    "\n",
    "# Plot base layer of polygons\n",
    "db.plot(ax=ax, facecolor='k', linewidth=0.1)\n",
    "\n",
    "# Select focal polygon geometry\n",
    "focus = db.loc[['31109001700'], ['geometry']]\n",
    "\n",
    "# Plot focal polygon\n",
    "focus.plot(facecolor='red', alpha=1, linewidth=0, ax=ax)\n",
    "\n",
    "# Plot neighbors\n",
    "neis = db.loc[w_rook['31109001700'], :]\n",
    "neis.plot(ax=ax, facecolor='lime', linewidth=0)\n",
    "\n",
    "# Title\n",
    "f.suptitle(\"Rook neighbors of 31109001700\")\n",
    "\n",
    "# Style, zoom, and display on screen\n",
    "ax.set_ylim(4515000, 4523000)\n",
    "ax.set_xlim(690000, 700000)\n",
    "plt.show()\n",
    "# looks a bit different than the queen contiguity"
   ]
  },
  {
   "cell_type": "code",
   "execution_count": 74,
   "metadata": {},
   "outputs": [],
   "source": [
    "### DISTANCE"
   ]
  },
  {
   "cell_type": "code",
   "execution_count": 76,
   "metadata": {},
   "outputs": [
    {
     "data": {
      "text/plain": [
       "<libpysal.weights.distance.KNN at 0x7f9790bfc1d0>"
      ]
     },
     "execution_count": 76,
     "metadata": {},
     "output_type": "execute_result"
    }
   ],
   "source": [
    "# k nearest-neighbors\n",
    "knn5 = weights.KNN.from_dataframe(db, k=5)\n",
    "knn5"
   ]
  },
  {
   "cell_type": "code",
   "execution_count": 83,
   "metadata": {},
   "outputs": [
    {
     "data": {
      "text/plain": [
       "{'31109002001': 1.0,\n",
       " '31109001800': 1.0,\n",
       " '31109002300': 1.0,\n",
       " '31109002002': 1.0,\n",
       " '31109001600': 1.0}"
      ]
     },
     "execution_count": 83,
     "metadata": {},
     "output_type": "execute_result"
    }
   ],
   "source": [
    "knn5['31109001700']"
   ]
  },
  {
   "cell_type": "code",
   "execution_count": 78,
   "metadata": {},
   "outputs": [
    {
     "name": "stderr",
     "output_type": "stream",
     "text": [
      "/Users/pbitterman2/opt/anaconda3/lib/python3.7/site-packages/libpysal/weights/weights.py:167: UserWarning: The weights matrix is not fully connected: \n",
      " There are 62 disconnected components.\n",
      " There are 56 islands with ids: 31109001302, 31109001400, 31109001500, 31109001600, 31109002300, 31109002400, 31109002500, 31109002800, 31109003003, 31109003102, 31109983200, 31109003202, 31109003709, 31109003604, 31109003704, 31109003706, 31109003801, 31109003802, 31109010100, 31109003500, 31109003717, 31109001102, 31109001101, 31109010202, 31109003302, 31109003401, 31109003720, 31109003716, 31109003714, 31109003713, 31109003719, 31109003301, 31109003104, 31109010201, 31109003402, 31109003608, 31109003607, 31109003715, 31109003609, 31109003718, 31109003001, 31109010300, 31109010400, 31109002200, 31109003707, 31109000100, 31109002900, 31109003708, 31109000201, 31109000202, 31109000300, 31109000400, 31109000800, 31109000900, 31109001301, 31109001200.\n",
      "  warnings.warn(message)\n"
     ]
    }
   ],
   "source": [
    "# distance band\n",
    "# binary output: 1 for inside the radius, 0 for outside\n",
    "\n",
    "w_dist1kmB = weights.DistanceBand.from_dataframe(db, 1000)"
   ]
  },
  {
   "cell_type": "code",
   "execution_count": 79,
   "metadata": {},
   "outputs": [
    {
     "data": {
      "text/plain": [
       "{'31109001800': 1.0, '31109002001': 1.0}"
      ]
     },
     "execution_count": 79,
     "metadata": {},
     "output_type": "execute_result"
    }
   ],
   "source": [
    "w_dist1kmB['31109001700']"
   ]
  },
  {
   "cell_type": "code",
   "execution_count": 84,
   "metadata": {},
   "outputs": [],
   "source": [
    "# inverse distance weighted\n",
    "w_dist1kmC = weights.DistanceBand.from_dataframe(db, 1000, binary=False) # note binary flag"
   ]
  },
  {
   "cell_type": "code",
   "execution_count": 85,
   "metadata": {},
   "outputs": [
    {
     "data": {
      "text/plain": [
       "{'31109001800': 0.001046725366805059, '31109002001': 0.0011497014612582065}"
      ]
     },
     "execution_count": 85,
     "metadata": {},
     "output_type": "execute_result"
    }
   ],
   "source": [
    "w_dist1kmC['31109001700']"
   ]
  },
  {
   "cell_type": "code",
   "execution_count": 86,
   "metadata": {},
   "outputs": [
    {
     "data": {
      "text/plain": [
       "'O'"
      ]
     },
     "execution_count": 86,
     "metadata": {},
     "output_type": "execute_result"
    }
   ],
   "source": [
    "### Transformations\n",
    "\n",
    "w_queen.transform \n",
    "# output of 'O' means \"original\""
   ]
  },
  {
   "cell_type": "code",
   "execution_count": 88,
   "metadata": {},
   "outputs": [
    {
     "data": {
      "text/plain": [
       "{'31109001600': 1.0,\n",
       " '31109002200': 1.0,\n",
       " '31109001900': 1.0,\n",
       " '31109001500': 1.0,\n",
       " '31109002001': 1.0,\n",
       " '31109002500': 1.0,\n",
       " '31109001800': 1.0,\n",
       " '31109002300': 1.0}"
      ]
     },
     "execution_count": 88,
     "metadata": {},
     "output_type": "execute_result"
    }
   ],
   "source": [
    "w_queen['31109001700'] # look at what we did originally"
   ]
  },
  {
   "cell_type": "code",
   "execution_count": 89,
   "metadata": {},
   "outputs": [],
   "source": [
    "w_queen.transform  = 'R' # Row-standardize it"
   ]
  },
  {
   "cell_type": "code",
   "execution_count": 90,
   "metadata": {},
   "outputs": [
    {
     "data": {
      "text/plain": [
       "{'31109001600': 0.125,\n",
       " '31109002200': 0.125,\n",
       " '31109001900': 0.125,\n",
       " '31109001500': 0.125,\n",
       " '31109002001': 0.125,\n",
       " '31109002500': 0.125,\n",
       " '31109001800': 0.125,\n",
       " '31109002300': 0.125}"
      ]
     },
     "execution_count": 90,
     "metadata": {},
     "output_type": "execute_result"
    }
   ],
   "source": [
    "w_queen['31109001700'] # now check"
   ]
  },
  {
   "cell_type": "code",
   "execution_count": 91,
   "metadata": {},
   "outputs": [
    {
     "data": {
      "text/plain": [
       "1.0"
      ]
     },
     "execution_count": 91,
     "metadata": {},
     "output_type": "execute_result"
    }
   ],
   "source": [
    "pd.Series(w_queen['31109001700']).sum() # verify they sum to 1"
   ]
  },
  {
   "cell_type": "code",
   "execution_count": 92,
   "metadata": {},
   "outputs": [
    {
     "data": {
      "text/plain": [
       "array([3939483.83333333, 2829759.25      , 2600414.6       ,\n",
       "       3591851.66666667, 5184564.        ])"
      ]
     },
     "execution_count": 92,
     "metadata": {},
     "output_type": "execute_result"
    }
   ],
   "source": [
    "# Compute spatial lag of `ALAND10`\n",
    "w_queen_score = weights.lag_spatial(w_queen, db[\"ALAND10\"])\n",
    "# Print the first five elements\n",
    "w_queen_score[:5]"
   ]
  },
  {
   "cell_type": "code",
   "execution_count": 96,
   "metadata": {},
   "outputs": [
    {
     "data": {
      "text/html": [
       "<div>\n",
       "<style scoped>\n",
       "    .dataframe tbody tr th:only-of-type {\n",
       "        vertical-align: middle;\n",
       "    }\n",
       "\n",
       "    .dataframe tbody tr th {\n",
       "        vertical-align: top;\n",
       "    }\n",
       "\n",
       "    .dataframe thead th {\n",
       "        text-align: right;\n",
       "    }\n",
       "</style>\n",
       "<table border=\"1\" class=\"dataframe\">\n",
       "  <thead>\n",
       "    <tr style=\"text-align: right;\">\n",
       "      <th></th>\n",
       "      <th>OBJECTID</th>\n",
       "      <th>STATEFP10</th>\n",
       "      <th>COUNTYFP10</th>\n",
       "      <th>TRACTCE10</th>\n",
       "      <th>GEOID10</th>\n",
       "      <th>NAME10</th>\n",
       "      <th>NAMELSAD10</th>\n",
       "      <th>MTFCC10</th>\n",
       "      <th>FUNCSTAT10</th>\n",
       "      <th>ALAND10</th>\n",
       "      <th>AWATER10</th>\n",
       "      <th>INTPTLAT10</th>\n",
       "      <th>INTPTLON10</th>\n",
       "      <th>GDB_GEOMAT</th>\n",
       "      <th>Shape__Are</th>\n",
       "      <th>Shape__Len</th>\n",
       "      <th>geometry</th>\n",
       "      <th>w_area</th>\n",
       "    </tr>\n",
       "    <tr>\n",
       "      <th>GEOID10</th>\n",
       "      <th></th>\n",
       "      <th></th>\n",
       "      <th></th>\n",
       "      <th></th>\n",
       "      <th></th>\n",
       "      <th></th>\n",
       "      <th></th>\n",
       "      <th></th>\n",
       "      <th></th>\n",
       "      <th></th>\n",
       "      <th></th>\n",
       "      <th></th>\n",
       "      <th></th>\n",
       "      <th></th>\n",
       "      <th></th>\n",
       "      <th></th>\n",
       "      <th></th>\n",
       "      <th></th>\n",
       "    </tr>\n",
       "  </thead>\n",
       "  <tbody>\n",
       "    <tr>\n",
       "      <td>31109001302</td>\n",
       "      <td>375</td>\n",
       "      <td>31</td>\n",
       "      <td>109</td>\n",
       "      <td>001302</td>\n",
       "      <td>31109001302</td>\n",
       "      <td>13.02</td>\n",
       "      <td>Census Tract 13.02</td>\n",
       "      <td>G5020</td>\n",
       "      <td>S</td>\n",
       "      <td>2176814</td>\n",
       "      <td>0</td>\n",
       "      <td>+40.7927167</td>\n",
       "      <td>-096.6340321</td>\n",
       "      <td>None</td>\n",
       "      <td>2.341853e+07</td>\n",
       "      <td>20361.716815</td>\n",
       "      <td>POLYGON ((699870.923 4519138.802, 700042.809 4...</td>\n",
       "      <td>3.939484e+06</td>\n",
       "    </tr>\n",
       "    <tr>\n",
       "      <td>31109001400</td>\n",
       "      <td>376</td>\n",
       "      <td>31</td>\n",
       "      <td>109</td>\n",
       "      <td>001400</td>\n",
       "      <td>31109001400</td>\n",
       "      <td>14</td>\n",
       "      <td>Census Tract 14</td>\n",
       "      <td>G5020</td>\n",
       "      <td>S</td>\n",
       "      <td>2726305</td>\n",
       "      <td>0</td>\n",
       "      <td>+40.8064054</td>\n",
       "      <td>-096.6532808</td>\n",
       "      <td>None</td>\n",
       "      <td>2.932990e+07</td>\n",
       "      <td>21984.171116</td>\n",
       "      <td>POLYGON ((698131.027 4519091.635, 698037.039 4...</td>\n",
       "      <td>2.829759e+06</td>\n",
       "    </tr>\n",
       "    <tr>\n",
       "      <td>31109001500</td>\n",
       "      <td>377</td>\n",
       "      <td>31</td>\n",
       "      <td>109</td>\n",
       "      <td>001500</td>\n",
       "      <td>31109001500</td>\n",
       "      <td>15</td>\n",
       "      <td>Census Tract 15</td>\n",
       "      <td>G5020</td>\n",
       "      <td>S</td>\n",
       "      <td>2807893</td>\n",
       "      <td>0</td>\n",
       "      <td>+40.7932287</td>\n",
       "      <td>-096.6560502</td>\n",
       "      <td>None</td>\n",
       "      <td>3.020778e+07</td>\n",
       "      <td>25712.716123</td>\n",
       "      <td>POLYGON ((696418.208 4518798.073, 696414.116 4...</td>\n",
       "      <td>2.600415e+06</td>\n",
       "    </tr>\n",
       "    <tr>\n",
       "      <td>31109001600</td>\n",
       "      <td>378</td>\n",
       "      <td>31</td>\n",
       "      <td>109</td>\n",
       "      <td>001600</td>\n",
       "      <td>31109001600</td>\n",
       "      <td>16</td>\n",
       "      <td>Census Tract 16</td>\n",
       "      <td>G5020</td>\n",
       "      <td>S</td>\n",
       "      <td>2572821</td>\n",
       "      <td>0</td>\n",
       "      <td>+40.8064997</td>\n",
       "      <td>-096.6728453</td>\n",
       "      <td>None</td>\n",
       "      <td>2.767876e+07</td>\n",
       "      <td>21877.890524</td>\n",
       "      <td>POLYGON ((695874.101 4520653.849, 695955.919 4...</td>\n",
       "      <td>3.591852e+06</td>\n",
       "    </tr>\n",
       "    <tr>\n",
       "      <td>31109001700</td>\n",
       "      <td>379</td>\n",
       "      <td>31</td>\n",
       "      <td>109</td>\n",
       "      <td>001700</td>\n",
       "      <td>31109001700</td>\n",
       "      <td>17</td>\n",
       "      <td>Census Tract 17</td>\n",
       "      <td>G5020</td>\n",
       "      <td>S</td>\n",
       "      <td>1263366</td>\n",
       "      <td>0</td>\n",
       "      <td>+40.8031881</td>\n",
       "      <td>-096.6894790</td>\n",
       "      <td>None</td>\n",
       "      <td>1.359143e+07</td>\n",
       "      <td>17301.104765</td>\n",
       "      <td>POLYGON ((695260.378 4519017.706, 695165.541 4...</td>\n",
       "      <td>5.184564e+06</td>\n",
       "    </tr>\n",
       "    <tr>\n",
       "      <td>...</td>\n",
       "      <td>...</td>\n",
       "      <td>...</td>\n",
       "      <td>...</td>\n",
       "      <td>...</td>\n",
       "      <td>...</td>\n",
       "      <td>...</td>\n",
       "      <td>...</td>\n",
       "      <td>...</td>\n",
       "      <td>...</td>\n",
       "      <td>...</td>\n",
       "      <td>...</td>\n",
       "      <td>...</td>\n",
       "      <td>...</td>\n",
       "      <td>...</td>\n",
       "      <td>...</td>\n",
       "      <td>...</td>\n",
       "      <td>...</td>\n",
       "      <td>...</td>\n",
       "    </tr>\n",
       "    <tr>\n",
       "      <td>31109000700</td>\n",
       "      <td>500</td>\n",
       "      <td>31</td>\n",
       "      <td>109</td>\n",
       "      <td>000700</td>\n",
       "      <td>31109000700</td>\n",
       "      <td>7</td>\n",
       "      <td>Census Tract 7</td>\n",
       "      <td>G5020</td>\n",
       "      <td>S</td>\n",
       "      <td>843906</td>\n",
       "      <td>0</td>\n",
       "      <td>+40.8197299</td>\n",
       "      <td>-096.6881650</td>\n",
       "      <td>None</td>\n",
       "      <td>9.078797e+06</td>\n",
       "      <td>13421.683013</td>\n",
       "      <td>POLYGON ((694483.633 4521421.458, 694588.912 4...</td>\n",
       "      <td>3.765412e+06</td>\n",
       "    </tr>\n",
       "    <tr>\n",
       "      <td>31109000800</td>\n",
       "      <td>501</td>\n",
       "      <td>31</td>\n",
       "      <td>109</td>\n",
       "      <td>000800</td>\n",
       "      <td>31109000800</td>\n",
       "      <td>8</td>\n",
       "      <td>Census Tract 8</td>\n",
       "      <td>G5020</td>\n",
       "      <td>S</td>\n",
       "      <td>1173587</td>\n",
       "      <td>0</td>\n",
       "      <td>+40.8183013</td>\n",
       "      <td>-096.6759144</td>\n",
       "      <td>None</td>\n",
       "      <td>1.262550e+07</td>\n",
       "      <td>15379.433592</td>\n",
       "      <td>POLYGON ((695955.919 4520656.018, 695874.101 4...</td>\n",
       "      <td>4.949066e+06</td>\n",
       "    </tr>\n",
       "    <tr>\n",
       "      <td>31109000900</td>\n",
       "      <td>502</td>\n",
       "      <td>31</td>\n",
       "      <td>109</td>\n",
       "      <td>000900</td>\n",
       "      <td>31109000900</td>\n",
       "      <td>9</td>\n",
       "      <td>Census Tract 9</td>\n",
       "      <td>G5020</td>\n",
       "      <td>S</td>\n",
       "      <td>3862174</td>\n",
       "      <td>0</td>\n",
       "      <td>+40.8257449</td>\n",
       "      <td>-096.6628021</td>\n",
       "      <td>None</td>\n",
       "      <td>4.154933e+07</td>\n",
       "      <td>28190.763185</td>\n",
       "      <td>POLYGON ((697875.521 4521365.880, 697882.503 4...</td>\n",
       "      <td>3.609473e+06</td>\n",
       "    </tr>\n",
       "    <tr>\n",
       "      <td>31109001301</td>\n",
       "      <td>503</td>\n",
       "      <td>31</td>\n",
       "      <td>109</td>\n",
       "      <td>001301</td>\n",
       "      <td>31109001301</td>\n",
       "      <td>13.01</td>\n",
       "      <td>Census Tract 13.01</td>\n",
       "      <td>G5020</td>\n",
       "      <td>S</td>\n",
       "      <td>2466727</td>\n",
       "      <td>0</td>\n",
       "      <td>+40.8059849</td>\n",
       "      <td>-096.6342730</td>\n",
       "      <td>None</td>\n",
       "      <td>2.653730e+07</td>\n",
       "      <td>20622.771945</td>\n",
       "      <td>POLYGON ((700309.115 4520232.121, 700312.409 4...</td>\n",
       "      <td>2.796511e+06</td>\n",
       "    </tr>\n",
       "    <tr>\n",
       "      <td>31109001200</td>\n",
       "      <td>504</td>\n",
       "      <td>31</td>\n",
       "      <td>109</td>\n",
       "      <td>001200</td>\n",
       "      <td>31109001200</td>\n",
       "      <td>12</td>\n",
       "      <td>Census Tract 12</td>\n",
       "      <td>G5020</td>\n",
       "      <td>S</td>\n",
       "      <td>4103032</td>\n",
       "      <td>0</td>\n",
       "      <td>+40.8201556</td>\n",
       "      <td>-096.6213735</td>\n",
       "      <td>None</td>\n",
       "      <td>4.414063e+07</td>\n",
       "      <td>28460.884438</td>\n",
       "      <td>POLYGON ((701891.004 4521520.964, 701894.548 4...</td>\n",
       "      <td>4.796337e+06</td>\n",
       "    </tr>\n",
       "  </tbody>\n",
       "</table>\n",
       "<p>74 rows × 18 columns</p>\n",
       "</div>"
      ],
      "text/plain": [
       "             OBJECTID STATEFP10 COUNTYFP10 TRACTCE10      GEOID10 NAME10  \\\n",
       "GEOID10                                                                    \n",
       "31109001302       375        31        109    001302  31109001302  13.02   \n",
       "31109001400       376        31        109    001400  31109001400     14   \n",
       "31109001500       377        31        109    001500  31109001500     15   \n",
       "31109001600       378        31        109    001600  31109001600     16   \n",
       "31109001700       379        31        109    001700  31109001700     17   \n",
       "...               ...       ...        ...       ...          ...    ...   \n",
       "31109000700       500        31        109    000700  31109000700      7   \n",
       "31109000800       501        31        109    000800  31109000800      8   \n",
       "31109000900       502        31        109    000900  31109000900      9   \n",
       "31109001301       503        31        109    001301  31109001301  13.01   \n",
       "31109001200       504        31        109    001200  31109001200     12   \n",
       "\n",
       "                     NAMELSAD10 MTFCC10 FUNCSTAT10  ALAND10  AWATER10  \\\n",
       "GEOID10                                                                 \n",
       "31109001302  Census Tract 13.02   G5020          S  2176814         0   \n",
       "31109001400     Census Tract 14   G5020          S  2726305         0   \n",
       "31109001500     Census Tract 15   G5020          S  2807893         0   \n",
       "31109001600     Census Tract 16   G5020          S  2572821         0   \n",
       "31109001700     Census Tract 17   G5020          S  1263366         0   \n",
       "...                         ...     ...        ...      ...       ...   \n",
       "31109000700      Census Tract 7   G5020          S   843906         0   \n",
       "31109000800      Census Tract 8   G5020          S  1173587         0   \n",
       "31109000900      Census Tract 9   G5020          S  3862174         0   \n",
       "31109001301  Census Tract 13.01   G5020          S  2466727         0   \n",
       "31109001200     Census Tract 12   G5020          S  4103032         0   \n",
       "\n",
       "              INTPTLAT10    INTPTLON10 GDB_GEOMAT    Shape__Are    Shape__Len  \\\n",
       "GEOID10                                                                         \n",
       "31109001302  +40.7927167  -096.6340321       None  2.341853e+07  20361.716815   \n",
       "31109001400  +40.8064054  -096.6532808       None  2.932990e+07  21984.171116   \n",
       "31109001500  +40.7932287  -096.6560502       None  3.020778e+07  25712.716123   \n",
       "31109001600  +40.8064997  -096.6728453       None  2.767876e+07  21877.890524   \n",
       "31109001700  +40.8031881  -096.6894790       None  1.359143e+07  17301.104765   \n",
       "...                  ...           ...        ...           ...           ...   \n",
       "31109000700  +40.8197299  -096.6881650       None  9.078797e+06  13421.683013   \n",
       "31109000800  +40.8183013  -096.6759144       None  1.262550e+07  15379.433592   \n",
       "31109000900  +40.8257449  -096.6628021       None  4.154933e+07  28190.763185   \n",
       "31109001301  +40.8059849  -096.6342730       None  2.653730e+07  20622.771945   \n",
       "31109001200  +40.8201556  -096.6213735       None  4.414063e+07  28460.884438   \n",
       "\n",
       "                                                      geometry        w_area  \n",
       "GEOID10                                                                       \n",
       "31109001302  POLYGON ((699870.923 4519138.802, 700042.809 4...  3.939484e+06  \n",
       "31109001400  POLYGON ((698131.027 4519091.635, 698037.039 4...  2.829759e+06  \n",
       "31109001500  POLYGON ((696418.208 4518798.073, 696414.116 4...  2.600415e+06  \n",
       "31109001600  POLYGON ((695874.101 4520653.849, 695955.919 4...  3.591852e+06  \n",
       "31109001700  POLYGON ((695260.378 4519017.706, 695165.541 4...  5.184564e+06  \n",
       "...                                                        ...           ...  \n",
       "31109000700  POLYGON ((694483.633 4521421.458, 694588.912 4...  3.765412e+06  \n",
       "31109000800  POLYGON ((695955.919 4520656.018, 695874.101 4...  4.949066e+06  \n",
       "31109000900  POLYGON ((697875.521 4521365.880, 697882.503 4...  3.609473e+06  \n",
       "31109001301  POLYGON ((700309.115 4520232.121, 700312.409 4...  2.796511e+06  \n",
       "31109001200  POLYGON ((701891.004 4521520.964, 701894.548 4...  4.796337e+06  \n",
       "\n",
       "[74 rows x 18 columns]"
      ]
     },
     "execution_count": 96,
     "metadata": {},
     "output_type": "execute_result"
    }
   ],
   "source": [
    "# add the lagged variable to the data frame\n",
    "db['w_area'] = w_queen_score\n"
   ]
  },
  {
   "cell_type": "code",
   "execution_count": 95,
   "metadata": {
    "scrolled": false
   },
   "outputs": [
    {
     "data": {
      "image/png": "[encoded data removed]",
      "text/plain": [
       "<Figure size 648x648 with 1 Axes>"
      ]
     },
     "metadata": {
      "needs_background": "light"
     },
     "output_type": "display_data"
    }
   ],
   "source": [
    "# scatter of area and lagged area\n",
    "\n",
    "# Setup the figure and axis\n",
    "f, ax = plt.subplots(1, figsize=(9, 9))\n",
    "# Plot values\n",
    "sns.regplot(x=\"ALAND10\", y=\"w_area\", data=db, ci=None)\n",
    "# Display\n",
    "plt.show()"
   ]
  },
  {
   "cell_type": "code",
   "execution_count": 94,
   "metadata": {},
   "outputs": [
    {
     "data": {
      "image/png": "[encoded data removed]",
      "text/plain": [
       "<Figure size 648x648 with 1 Axes>"
      ]
     },
     "metadata": {
      "needs_background": "light"
     },
     "output_type": "display_data"
    }
   ],
   "source": [
    "# Moran plot\n",
    "\n",
    "# Standardize the area\n",
    "std_db = (db['ALAND10'] - db['ALAND10'].mean()) / db['ALAND10'].std()\n",
    "# Compute the spatial lag of the standardized version and save is as a \n",
    "# Series indexed as the original variable\n",
    "std_w_db = pd.Series(weights.lag_spatial(w_queen, std_db), index=std_db.index)\n",
    "# Setup the figure and axis\n",
    "f, ax = plt.subplots(1, figsize=(9, 9))\n",
    "# Plot values\n",
    "sns.regplot(x=std_db, y=std_w_db, ci=None)\n",
    "# Add vertical and horizontal lines\n",
    "plt.axvline(0, c='k', alpha=0.5)\n",
    "plt.axhline(0, c='k', alpha=0.5)\n",
    "# Display\n",
    "plt.show()"
   ]
  },
  {
   "cell_type": "code",
   "execution_count": null,
   "metadata": {},
   "outputs": [],
   "source": []
  }
 ],
 "metadata": {
  "kernelspec": {
   "display_name": "Python 3",
   "language": "python",
   "name": "python3"
  },
  "language_info": {
   "codemirror_mode": {
    "name": "ipython",
    "version": 3
   },
   "file_extension": ".py",
   "mimetype": "text/x-python",
   "name": "python",
   "nbconvert_exporter": "python",
   "pygments_lexer": "ipython3",
   "version": "3.7.4"
  }
 },
 "nbformat": 4,
 "nbformat_minor": 2
}
